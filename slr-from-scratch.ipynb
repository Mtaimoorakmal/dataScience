{
 "cells": [
  {
   "cell_type": "markdown",
   "id": "0686e98c",
   "metadata": {
    "papermill": {
     "duration": 0.002911,
     "end_time": "2024-11-21T13:10:46.309387",
     "exception": false,
     "start_time": "2024-11-21T13:10:46.306476",
     "status": "completed"
    },
    "tags": []
   },
   "source": [
    "**Simple Linear Regression (SLR):** <br>\n",
    "- Implement a Python program that models Simple Linear Regression using a single \n",
    "neuron. Ensure your program includes:<br>\n",
    "- Initialization of weights and bias <br>\n",
    "- A gradient descent loop for optimization <br>\n",
    "- Loss computation using Mean Squared Error (MSE) <br>\n",
    "- Verify the model's predictions with test data<br>"
   ]
  },
  {
   "cell_type": "code",
   "execution_count": 1,
   "id": "cc07faab",
   "metadata": {
    "execution": {
     "iopub.execute_input": "2024-11-21T13:10:46.316277Z",
     "iopub.status.busy": "2024-11-21T13:10:46.315889Z",
     "iopub.status.idle": "2024-11-21T13:10:46.331222Z",
     "shell.execute_reply": "2024-11-21T13:10:46.329871Z"
    },
    "papermill": {
     "duration": 0.021886,
     "end_time": "2024-11-21T13:10:46.333855",
     "exception": false,
     "start_time": "2024-11-21T13:10:46.311969",
     "status": "completed"
    },
    "tags": []
   },
   "outputs": [],
   "source": [
    "import numpy as np\n",
    "\n",
    "class linear_Regression:\n",
    "    def __init__(self , alpha = 0.01 , epochs  =1000):\n",
    "        self.alpha = alpha\n",
    "        self.epochs  = epochs\n",
    "        self.weights = None\n",
    "        self.bias = None\n",
    "\n",
    "    #method to calculate the mean Squar erroe (MSE)\n",
    "    def loss_MSE(self, y, y_pred):\n",
    "        return np.mean(np.abs(y - y_pred))\n",
    "        \n",
    "     #method to calculate the mean Absoult error (MAE)   \n",
    "    def loss_MAE(self, y, y_pred):\n",
    "        return np.mean((y - y_pred) ** 2)\n",
    "\n",
    "\n",
    "    def fit(self , X , y):\n",
    "        m , n = X.shape # m =number of examples , n =number of features\n",
    "        \n",
    "        # Initialize weights and bias to zero\n",
    "        self.weights = np.zeros(n) \n",
    "        self.bias = 0\n",
    "\n",
    "        # loss & Gradient Descent \n",
    "        for i in range(self.epochs):\n",
    "             # FORWARD PROPAGATION (FROM X TO COST)\n",
    "            y_pred = np.dot(X , self.weights) + self.bias        #linear equation #tag 1\n",
    "\n",
    "            loss = self.loss_MSE(y,y_pred)\n",
    "\n",
    "            # BACKWARD PROPAGATION         \n",
    "            # dw: Gradient with respect to weights\n",
    "            dw = - (2 / m) * np.dot(X.T, (y - y_pred))\n",
    "            # db: Gradient with respect to bias\n",
    "            db = - (2 / m) * np.sum(y - y_pred)\n",
    "            \n",
    "            # Update the weights and bias using the gradients\n",
    "            self.weights -= self.alpha*dw\n",
    "            self.bias -= self.alpha*db\n",
    "            \n",
    "            if i  == 10:\n",
    "                    print(f\"Epoch {i}, Loss: {loss}, w: {self.weights}, b: {self.bias }\")\n",
    "        print(f\"End Loss: {loss}, w: {self.weights}, b: {self.bias }\")\n",
    "\n",
    "    def predict(self , X):\n",
    "        y_pred = np.dot(X , self.weights)+self.bias\n",
    "\n",
    "        return y_pred\n",
    "        \n",
    "\n",
    "    def cofient_and_bias(self):\n",
    "        w = self.weights\n",
    "        b = self.bias\n",
    "        return f'{w=} \\n {b=}'\n",
    "    "
   ]
  },
  {
   "cell_type": "code",
   "execution_count": 2,
   "id": "2b050f6d",
   "metadata": {
    "execution": {
     "iopub.execute_input": "2024-11-21T13:10:46.341255Z",
     "iopub.status.busy": "2024-11-21T13:10:46.340808Z",
     "iopub.status.idle": "2024-11-21T13:10:47.348073Z",
     "shell.execute_reply": "2024-11-21T13:10:47.346806Z"
    },
    "papermill": {
     "duration": 1.014058,
     "end_time": "2024-11-21T13:10:47.350344",
     "exception": false,
     "start_time": "2024-11-21T13:10:46.336286",
     "status": "completed"
    },
    "tags": []
   },
   "outputs": [
    {
     "data": {
      "text/html": [
       "<div>\n",
       "<style scoped>\n",
       "    .dataframe tbody tr th:only-of-type {\n",
       "        vertical-align: middle;\n",
       "    }\n",
       "\n",
       "    .dataframe tbody tr th {\n",
       "        vertical-align: top;\n",
       "    }\n",
       "\n",
       "    .dataframe thead th {\n",
       "        text-align: right;\n",
       "    }\n",
       "</style>\n",
       "<table border=\"1\" class=\"dataframe\">\n",
       "  <thead>\n",
       "    <tr style=\"text-align: right;\">\n",
       "      <th></th>\n",
       "      <th>SquareFootage</th>\n",
       "      <th>NumBedrooms</th>\n",
       "      <th>AgeOfHouse</th>\n",
       "      <th>LocationQuality</th>\n",
       "      <th>HousePrice</th>\n",
       "    </tr>\n",
       "  </thead>\n",
       "  <tbody>\n",
       "    <tr>\n",
       "      <th>0</th>\n",
       "      <td>1810.890416</td>\n",
       "      <td>4</td>\n",
       "      <td>34</td>\n",
       "      <td>1</td>\n",
       "      <td>372644.168060</td>\n",
       "    </tr>\n",
       "    <tr>\n",
       "      <th>1</th>\n",
       "      <td>3827.500072</td>\n",
       "      <td>3</td>\n",
       "      <td>8</td>\n",
       "      <td>4</td>\n",
       "      <td>595563.142129</td>\n",
       "    </tr>\n",
       "    <tr>\n",
       "      <th>2</th>\n",
       "      <td>3061.978796</td>\n",
       "      <td>5</td>\n",
       "      <td>59</td>\n",
       "      <td>1</td>\n",
       "      <td>513024.211498</td>\n",
       "    </tr>\n",
       "    <tr>\n",
       "      <th>3</th>\n",
       "      <td>2595.304695</td>\n",
       "      <td>1</td>\n",
       "      <td>86</td>\n",
       "      <td>6</td>\n",
       "      <td>340579.570327</td>\n",
       "    </tr>\n",
       "    <tr>\n",
       "      <th>4</th>\n",
       "      <td>1046.065242</td>\n",
       "      <td>5</td>\n",
       "      <td>72</td>\n",
       "      <td>4</td>\n",
       "      <td>372364.691348</td>\n",
       "    </tr>\n",
       "  </tbody>\n",
       "</table>\n",
       "</div>"
      ],
      "text/plain": [
       "   SquareFootage  NumBedrooms  AgeOfHouse  LocationQuality     HousePrice\n",
       "0    1810.890416            4          34                1  372644.168060\n",
       "1    3827.500072            3           8                4  595563.142129\n",
       "2    3061.978796            5          59                1  513024.211498\n",
       "3    2595.304695            1          86                6  340579.570327\n",
       "4    1046.065242            5          72                4  372364.691348"
      ]
     },
     "execution_count": 2,
     "metadata": {},
     "output_type": "execute_result"
    }
   ],
   "source": [
    "import pandas as pd\n",
    "\n",
    "path = '/kaggle/input/house-price-prediction/house_price_dataset.csv'\n",
    "df = pd.read_csv(path)\n",
    "df.head()"
   ]
  },
  {
   "cell_type": "code",
   "execution_count": 3,
   "id": "5e3aaaed",
   "metadata": {
    "execution": {
     "iopub.execute_input": "2024-11-21T13:10:47.357407Z",
     "iopub.status.busy": "2024-11-21T13:10:47.357026Z",
     "iopub.status.idle": "2024-11-21T13:10:47.372484Z",
     "shell.execute_reply": "2024-11-21T13:10:47.370899Z"
    },
    "papermill": {
     "duration": 0.021942,
     "end_time": "2024-11-21T13:10:47.375008",
     "exception": false,
     "start_time": "2024-11-21T13:10:47.353066",
     "status": "completed"
    },
    "tags": []
   },
   "outputs": [
    {
     "data": {
      "text/plain": [
       "((1000, 4), (1000,))"
      ]
     },
     "execution_count": 3,
     "metadata": {},
     "output_type": "execute_result"
    }
   ],
   "source": [
    "X = df.drop(columns=['HousePrice'])\n",
    "Y = df['HousePrice']\n",
    "X.shape , Y.shape"
   ]
  },
  {
   "cell_type": "code",
   "execution_count": 4,
   "id": "cfda459d",
   "metadata": {
    "execution": {
     "iopub.execute_input": "2024-11-21T13:10:47.385246Z",
     "iopub.status.busy": "2024-11-21T13:10:47.383969Z",
     "iopub.status.idle": "2024-11-21T13:10:47.402084Z",
     "shell.execute_reply": "2024-11-21T13:10:47.400983Z"
    },
    "papermill": {
     "duration": 0.026756,
     "end_time": "2024-11-21T13:10:47.405650",
     "exception": false,
     "start_time": "2024-11-21T13:10:47.378894",
     "status": "completed"
    },
    "tags": []
   },
   "outputs": [
    {
     "data": {
      "text/plain": [
       "((700, 4), (300, 4), (700,), (300,))"
      ]
     },
     "execution_count": 4,
     "metadata": {},
     "output_type": "execute_result"
    }
   ],
   "source": [
    "x_train ,x_test = X[:700] , X[700:]\n",
    "y_train ,y_test =  Y[:700] , Y[700:]\n",
    "x_train.shape ,x_test.shape,y_train.shape ,y_test.shape"
   ]
  },
  {
   "cell_type": "code",
   "execution_count": 5,
   "id": "5ef51499",
   "metadata": {
    "execution": {
     "iopub.execute_input": "2024-11-21T13:10:47.414085Z",
     "iopub.status.busy": "2024-11-21T13:10:47.413535Z",
     "iopub.status.idle": "2024-11-21T13:10:47.487369Z",
     "shell.execute_reply": "2024-11-21T13:10:47.486137Z"
    },
    "papermill": {
     "duration": 0.081467,
     "end_time": "2024-11-21T13:10:47.489966",
     "exception": false,
     "start_time": "2024-11-21T13:10:47.408499",
     "status": "completed"
    },
    "tags": []
   },
   "outputs": [
    {
     "name": "stdout",
     "output_type": "stream",
     "text": [
      "Epoch 10, Loss: 2.496399779985841e+36, w: [1.34849378e+36 1.48938374e+33 2.40746690e+34 2.72987720e+33], b: 4.98865025877963e+32\n",
      "End Loss: 3.2932895532125207e+156, w: [-1.77895404e+156 -1.96481827e+153 -3.17596791e+154 -3.60129661e+153], b: -6.581105283530781e+152\n",
      "accuracy -> 0.0 \n",
      " \n",
      " w=array([-1.77895404e+156, -1.96481827e+153, -3.17596791e+154,\n",
      "       -3.60129661e+153]) \n",
      " b=-6.581105283530781e+152\n"
     ]
    }
   ],
   "source": [
    "# Initialize and train the model\n",
    "model = linear_Regression(0.0001,50)\n",
    "model.fit(x_train, y_train)\n",
    "\n",
    "# Make predictions\n",
    "predictions = model.predict(x_test)\n",
    "\n",
    "# print(f'The predictions are :{predictions}')  \n",
    "\n",
    "w = model.cofient_and_bias()\n",
    "\n",
    "print('accuracy -> {} \\n \\n'.format(sum(predictions == y_test) / y_test.shape[0]),w)\n"
   ]
  },
  {
   "cell_type": "code",
   "execution_count": null,
   "id": "d36b6f07",
   "metadata": {
    "papermill": {
     "duration": 0.003112,
     "end_time": "2024-11-21T13:10:47.496756",
     "exception": false,
     "start_time": "2024-11-21T13:10:47.493644",
     "status": "completed"
    },
    "tags": []
   },
   "outputs": [],
   "source": []
  }
 ],
 "metadata": {
  "kaggle": {
   "accelerator": "none",
   "dataSources": [
    {
     "datasetId": 3583769,
     "sourceId": 6237943,
     "sourceType": "datasetVersion"
    },
    {
     "datasetId": 6131214,
     "sourceId": 9966737,
     "sourceType": "datasetVersion"
    }
   ],
   "dockerImageVersionId": 30786,
   "isGpuEnabled": false,
   "isInternetEnabled": true,
   "language": "python",
   "sourceType": "notebook"
  },
  "kernelspec": {
   "display_name": "Python 3",
   "language": "python",
   "name": "python3"
  },
  "language_info": {
   "codemirror_mode": {
    "name": "ipython",
    "version": 3
   },
   "file_extension": ".py",
   "mimetype": "text/x-python",
   "name": "python",
   "nbconvert_exporter": "python",
   "pygments_lexer": "ipython3",
   "version": "3.10.14"
  },
  "papermill": {
   "default_parameters": {},
   "duration": 4.634102,
   "end_time": "2024-11-21T13:10:48.022839",
   "environment_variables": {},
   "exception": null,
   "input_path": "__notebook__.ipynb",
   "output_path": "__notebook__.ipynb",
   "parameters": {},
   "start_time": "2024-11-21T13:10:43.388737",
   "version": "2.6.0"
  }
 },
 "nbformat": 4,
 "nbformat_minor": 5
}
