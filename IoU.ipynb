{
 "cells": [
  {
   "cell_type": "markdown",
   "metadata": {},
   "source": [
    "Intersection Over Union  \n",
    "* Find the Intersection first (for this design the generic algo)\n",
    "* Find the union \n",
    "[Help from V7 Labs](https://www.v7labs.com/blog/intersection-over-union-guide)\n(Right-click to open in a new tab)\n"
   ]
  },
  {
   "cell_type": "code",
   "execution_count": 4,
   "metadata": {},
   "outputs": [
    {
     "name": "stdout",
     "output_type": "stream",
     "text": [
      "Area:  9\n"
     ]
    }
   ],
   "source": [
    "def intersec_area(Box1, Box2):\n",
    "    '''Calculate the intersection area of two boxes\n",
    "    Each box is a list with [x1, y1, x2, y2]\n",
    "    (x1, y1) are the top-left corner, (x2, y2) are the bottom-right corner\n",
    "    '''\n",
    "    x1_1, y1_1, x2_1, y2_1 = Box1\n",
    "    x1_2, y1_2, x2_2, y2_2 = Box2\n",
    "\n",
    "\n",
    "  # Calculate the coordinates of the intersection rectangle\n",
    "    x1_inter = max(x1_1, x1_2)\n",
    "    y1_inter = max(y1_1, y1_2)\n",
    "    x2_inter = min(x2_1, x2_2)\n",
    "    y2_inter = min(y2_1, y2_2)\n",
    "#     print(x1_inter , y1_inter,x2_inter ,y2_inter)\n",
    "\n",
    "  # Calculate width and height of the intersection rectangle\n",
    "    width_inter = abs(x2_inter - x1_inter)\n",
    "    height_inter = abs(y2_inter - y1_inter)\n",
    "    # print(f\"{width_inter=} , {height_inter=} \")\n",
    "\n",
    "  # Calculate the area of the intersection rectangle\n",
    "    area_inter = width_inter * height_inter\n",
    "\n",
    "    return area_inter\n",
    "# Test case 5: Identical boxes\n",
    "Box1 = [1, 1, 4, 4]\n",
    "Box2 = [1, 1, 4, 4]\n",
    "print(\"Area : \" , intersec_area(Box1, Box2))"
   ]
  },
  {
   "cell_type": "markdown",
   "metadata": {},
   "source": [
    "**Test Cases**"
   ]
  },
  {
   "cell_type": "code",
   "execution_count": 8,
   "metadata": {},
   "outputs": [
    {
     "name": "stdout",
     "output_type": "stream",
     "text": [
      "Fisrt case:  4\n",
      "second case: 4\n",
      "Third Case :  1\n",
      "4th Case:  0\n",
      "5th case:  9\n"
     ]
    }
   ],
   "source": [
    "\n",
    "# Test case 1: Overlapping boxes\n",
    "Box1 = [0, 0, 4, 4]\n",
    "Box2 = [2, 2, 6, 6]\n",
    "# Expected intersection area: 4 (2x2 square)\n",
    "print(\"Fisrt case: \" , intersec_area(Box1, Box2))  # Output: 4\n",
    "\n",
    "# Test case 2: One box completely inside another\n",
    "Box1 = [0, 0, 5, 5]\n",
    "Box2 = [1, 1, 3, 3]\n",
    "# Expected intersection area: 4 (2x2 square)\n",
    "print(\"second case:\" ,intersec_area(Box1, Box2))  # Output: 4\n",
    "\n",
    "# Test case 3: No overlap\n",
    "Box1 = [0, 0, 2, 2]\n",
    "Box2 = [3, 3, 5, 5]\n",
    "# Expected intersection area: 0\n",
    "print(\"Third Case : \" , intersec_area(Box1, Box2))  # Output: 0\n",
    "\n",
    "# Test case 4: Touching edges but no overlap\n",
    "Box1 = [0, 0, 2, 2]\n",
    "Box2 = [2, 0, 4, 2]\n",
    "# Expected intersection area: 0\n",
    "print(\"4th Case: \" , intersec_area(Box1, Box2))  # Output: 0\n",
    "\n",
    "# Test case 5: Identical boxes\n",
    "Box1 = [1, 1, 4, 4]\n",
    "Box2 = [1, 1, 4, 4]\n",
    "print(\"5th case: \" , intersec_area(Box1, Box2))"
   ]
  },
  {
   "cell_type": "code",
   "execution_count": null,
   "metadata": {},
   "outputs": [],
   "source": []
  }
 ],
 "metadata": {
  "kernelspec": {
   "display_name": "Python 3",
   "language": "python",
   "name": "python3"
  },
  "language_info": {
   "codemirror_mode": {
    "name": "ipython",
    "version": 3
   },
   "file_extension": ".py",
   "mimetype": "text/x-python",
   "name": "python",
   "nbconvert_exporter": "python",
   "pygments_lexer": "ipython3",
   "version": "3.12.6"
  }
 },
 "nbformat": 4,
 "nbformat_minor": 2
}
