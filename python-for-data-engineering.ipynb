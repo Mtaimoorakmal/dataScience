{
 "cells": [
  {
   "cell_type": "code",
   "execution_count": 1,
   "id": "862506af",
   "metadata": {
    "_cell_guid": "b1076dfc-b9ad-4769-8c92-a6c4dae69d19",
    "_uuid": "8f2839f25d086af736a60e9eeb907d3b93b6e0e5",
    "execution": {
     "iopub.execute_input": "2024-11-23T23:41:09.768114Z",
     "iopub.status.busy": "2024-11-23T23:41:09.767577Z",
     "iopub.status.idle": "2024-11-23T23:41:10.662649Z",
     "shell.execute_reply": "2024-11-23T23:41:10.661627Z"
    },
    "papermill": {
     "duration": 0.902638,
     "end_time": "2024-11-23T23:41:10.665085",
     "exception": false,
     "start_time": "2024-11-23T23:41:09.762447",
     "status": "completed"
    },
    "tags": []
   },
   "outputs": [],
   "source": [
    "# This Python 3 environment comes with many helpful analytics libraries installed\n",
    "# It is defined by the kaggle/python Docker image: https://github.com/kaggle/docker-python\n",
    "# For example, here's several helpful packages to load\n",
    "\n",
    "import numpy as np # linear algebra\n",
    "import pandas as pd # data processing, CSV file I/O (e.g. pd.read_csv)\n",
    "\n",
    "# Input data files are available in the read-only \"../input/\" directory\n",
    "# For example, running this (by clicking run or pressing Shift+Enter) will list all files under the input directory\n",
    "\n",
    "import os\n",
    "for dirname, _, filenames in os.walk('/kaggle/input'):\n",
    "    for filename in filenames:\n",
    "        print(os.path.join(dirname, filename))\n",
    "\n",
    "# You can write up to 20GB to the current directory (/kaggle/working/) that gets preserved as output when you create a version using \"Save & Run All\" \n",
    "# You can also write temporary files to /kaggle/temp/, but they won't be saved outside of the current session"
   ]
  },
  {
   "cell_type": "code",
   "execution_count": 2,
   "id": "11655ffe",
   "metadata": {
    "execution": {
     "iopub.execute_input": "2024-11-23T23:41:10.672948Z",
     "iopub.status.busy": "2024-11-23T23:41:10.672417Z",
     "iopub.status.idle": "2024-11-23T23:41:10.699277Z",
     "shell.execute_reply": "2024-11-23T23:41:10.698218Z"
    },
    "papermill": {
     "duration": 0.033396,
     "end_time": "2024-11-23T23:41:10.701682",
     "exception": false,
     "start_time": "2024-11-23T23:41:10.668286",
     "status": "completed"
    },
    "tags": []
   },
   "outputs": [
    {
     "data": {
      "text/html": [
       "<div>\n",
       "<style scoped>\n",
       "    .dataframe tbody tr th:only-of-type {\n",
       "        vertical-align: middle;\n",
       "    }\n",
       "\n",
       "    .dataframe tbody tr th {\n",
       "        vertical-align: top;\n",
       "    }\n",
       "\n",
       "    .dataframe thead th {\n",
       "        text-align: right;\n",
       "    }\n",
       "</style>\n",
       "<table border=\"1\" class=\"dataframe\">\n",
       "  <thead>\n",
       "    <tr style=\"text-align: right;\">\n",
       "      <th></th>\n",
       "      <th>Name</th>\n",
       "      <th>Age</th>\n",
       "      <th>Salary</th>\n",
       "    </tr>\n",
       "  </thead>\n",
       "  <tbody>\n",
       "    <tr>\n",
       "      <th>0</th>\n",
       "      <td>Alice</td>\n",
       "      <td>24</td>\n",
       "      <td>50000.0</td>\n",
       "    </tr>\n",
       "    <tr>\n",
       "      <th>1</th>\n",
       "      <td>Bob</td>\n",
       "      <td>27</td>\n",
       "      <td>60000.0</td>\n",
       "    </tr>\n",
       "    <tr>\n",
       "      <th>2</th>\n",
       "      <td>None</td>\n",
       "      <td>22</td>\n",
       "      <td>55000.0</td>\n",
       "    </tr>\n",
       "    <tr>\n",
       "      <th>3</th>\n",
       "      <td>David</td>\n",
       "      <td>None</td>\n",
       "      <td>45000.0</td>\n",
       "    </tr>\n",
       "    <tr>\n",
       "      <th>4</th>\n",
       "      <td>Jhon</td>\n",
       "      <td>31</td>\n",
       "      <td>NaN</td>\n",
       "    </tr>\n",
       "  </tbody>\n",
       "</table>\n",
       "</div>"
      ],
      "text/plain": [
       "    Name   Age   Salary\n",
       "0  Alice    24  50000.0\n",
       "1    Bob    27  60000.0\n",
       "2   None    22  55000.0\n",
       "3  David  None  45000.0\n",
       "4   Jhon    31      NaN"
      ]
     },
     "execution_count": 2,
     "metadata": {},
     "output_type": "execute_result"
    }
   ],
   "source": [
    "# Load sample data\n",
    "data = {'Name': ['Alice', 'Bob', None, 'David' ,'Jhon' , 'Leo'],\n",
    "        'Age': [24, 27, 22, None , '31'  , None],\n",
    "        'Salary': [50000, 60000, 55000, 45000 , None , 75000]}\n",
    "df = pd.DataFrame(data)\n",
    "df.head()"
   ]
  },
  {
   "cell_type": "code",
   "execution_count": 3,
   "id": "d997c687",
   "metadata": {
    "execution": {
     "iopub.execute_input": "2024-11-23T23:41:10.710505Z",
     "iopub.status.busy": "2024-11-23T23:41:10.709425Z",
     "iopub.status.idle": "2024-11-23T23:41:10.724794Z",
     "shell.execute_reply": "2024-11-23T23:41:10.723587Z"
    },
    "papermill": {
     "duration": 0.022239,
     "end_time": "2024-11-23T23:41:10.727051",
     "exception": false,
     "start_time": "2024-11-23T23:41:10.704812",
     "status": "completed"
    },
    "tags": []
   },
   "outputs": [
    {
     "name": "stdout",
     "output_type": "stream",
     "text": [
      "Cleaned Data:\n",
      "    Name Age   Salary\n",
      "0  Alice  24  50000.0\n",
      "1    Bob  27  60000.0 \n",
      " \n",
      "Average Salary: 55000.0\n"
     ]
    }
   ],
   "source": [
    "# Drop rows with missing values\n",
    "df_clean = df.dropna()\n",
    "\n",
    "# Calculate average salary\n",
    "avg_salary = df_clean['Salary'].mean()\n",
    "\n",
    "print(\"Cleaned Data:\")\n",
    "print(f\"{df_clean} \\n \")\n",
    "print(f\"Average Salary: {avg_salary}\")"
   ]
  },
  {
   "cell_type": "markdown",
   "id": "98bbe171",
   "metadata": {
    "papermill": {
     "duration": 0.002809,
     "end_time": "2024-11-23T23:41:10.732943",
     "exception": false,
     "start_time": "2024-11-23T23:41:10.730134",
     "status": "completed"
    },
    "tags": []
   },
   "source": [
    "**File Handling**"
   ]
  },
  {
   "cell_type": "code",
   "execution_count": 4,
   "id": "c47a927b",
   "metadata": {
    "execution": {
     "iopub.execute_input": "2024-11-23T23:41:10.740393Z",
     "iopub.status.busy": "2024-11-23T23:41:10.740044Z",
     "iopub.status.idle": "2024-11-23T23:41:10.751984Z",
     "shell.execute_reply": "2024-11-23T23:41:10.751011Z"
    },
    "papermill": {
     "duration": 0.018455,
     "end_time": "2024-11-23T23:41:10.754340",
     "exception": false,
     "start_time": "2024-11-23T23:41:10.735885",
     "status": "completed"
    },
    "tags": []
   },
   "outputs": [],
   "source": [
    "# Save DataFrame to a CSV file\n",
    "df_clean.to_csv('clean_data.csv' , index = False)"
   ]
  },
  {
   "cell_type": "code",
   "execution_count": 5,
   "id": "204e0d4b",
   "metadata": {
    "execution": {
     "iopub.execute_input": "2024-11-23T23:41:10.762033Z",
     "iopub.status.busy": "2024-11-23T23:41:10.761631Z",
     "iopub.status.idle": "2024-11-23T23:41:10.772780Z",
     "shell.execute_reply": "2024-11-23T23:41:10.771667Z"
    },
    "papermill": {
     "duration": 0.017692,
     "end_time": "2024-11-23T23:41:10.775139",
     "exception": false,
     "start_time": "2024-11-23T23:41:10.757447",
     "status": "completed"
    },
    "tags": []
   },
   "outputs": [
    {
     "name": "stdout",
     "output_type": "stream",
     "text": [
      "Loaded Data:\n",
      "    Name  Age   Salary\n",
      "0  Alice   24  50000.0\n",
      "1    Bob   27  60000.0\n"
     ]
    }
   ],
   "source": [
    "# Load the saved CSV file\n",
    "load_df = pd.read_csv('clean_data.csv')\n",
    "print(\"Loaded Data:\")\n",
    "print(load_df)"
   ]
  },
  {
   "cell_type": "markdown",
   "id": "38043fea",
   "metadata": {
    "papermill": {
     "duration": 0.003504,
     "end_time": "2024-11-23T23:41:10.781882",
     "exception": false,
     "start_time": "2024-11-23T23:41:10.778378",
     "status": "completed"
    },
    "tags": []
   },
   "source": [
    "**Data Aggregation and Grouping**"
   ]
  },
  {
   "cell_type": "code",
   "execution_count": 6,
   "id": "c1396eaa",
   "metadata": {
    "execution": {
     "iopub.execute_input": "2024-11-23T23:41:10.789385Z",
     "iopub.status.busy": "2024-11-23T23:41:10.789041Z",
     "iopub.status.idle": "2024-11-23T23:41:10.800135Z",
     "shell.execute_reply": "2024-11-23T23:41:10.799056Z"
    },
    "papermill": {
     "duration": 0.017302,
     "end_time": "2024-11-23T23:41:10.802196",
     "exception": false,
     "start_time": "2024-11-23T23:41:10.784894",
     "status": "completed"
    },
    "tags": []
   },
   "outputs": [
    {
     "data": {
      "text/html": [
       "<div>\n",
       "<style scoped>\n",
       "    .dataframe tbody tr th:only-of-type {\n",
       "        vertical-align: middle;\n",
       "    }\n",
       "\n",
       "    .dataframe tbody tr th {\n",
       "        vertical-align: top;\n",
       "    }\n",
       "\n",
       "    .dataframe thead th {\n",
       "        text-align: right;\n",
       "    }\n",
       "</style>\n",
       "<table border=\"1\" class=\"dataframe\">\n",
       "  <thead>\n",
       "    <tr style=\"text-align: right;\">\n",
       "      <th></th>\n",
       "      <th>Category</th>\n",
       "      <th>Values</th>\n",
       "    </tr>\n",
       "  </thead>\n",
       "  <tbody>\n",
       "    <tr>\n",
       "      <th>0</th>\n",
       "      <td>A</td>\n",
       "      <td>10.0</td>\n",
       "    </tr>\n",
       "    <tr>\n",
       "      <th>1</th>\n",
       "      <td>B</td>\n",
       "      <td>20.0</td>\n",
       "    </tr>\n",
       "    <tr>\n",
       "      <th>2</th>\n",
       "      <td>A</td>\n",
       "      <td>30.0</td>\n",
       "    </tr>\n",
       "    <tr>\n",
       "      <th>3</th>\n",
       "      <td>B</td>\n",
       "      <td>40.0</td>\n",
       "    </tr>\n",
       "    <tr>\n",
       "      <th>4</th>\n",
       "      <td>C</td>\n",
       "      <td>50.0</td>\n",
       "    </tr>\n",
       "    <tr>\n",
       "      <th>5</th>\n",
       "      <td>C</td>\n",
       "      <td>NaN</td>\n",
       "    </tr>\n",
       "  </tbody>\n",
       "</table>\n",
       "</div>"
      ],
      "text/plain": [
       "  Category  Values\n",
       "0        A    10.0\n",
       "1        B    20.0\n",
       "2        A    30.0\n",
       "3        B    40.0\n",
       "4        C    50.0\n",
       "5        C     NaN"
      ]
     },
     "execution_count": 6,
     "metadata": {},
     "output_type": "execute_result"
    }
   ],
   "source": [
    "data = {'Category': ['A', 'B', 'A', 'B', 'C' , 'C'],\n",
    "        'Values': [10, 20, 30, 40, 50 , None]}\n",
    "\n",
    "df = pd.DataFrame(data)\n",
    "df"
   ]
  },
  {
   "cell_type": "code",
   "execution_count": 7,
   "id": "48614447",
   "metadata": {
    "execution": {
     "iopub.execute_input": "2024-11-23T23:41:10.810465Z",
     "iopub.status.busy": "2024-11-23T23:41:10.810123Z",
     "iopub.status.idle": "2024-11-23T23:41:10.833798Z",
     "shell.execute_reply": "2024-11-23T23:41:10.832742Z"
    },
    "papermill": {
     "duration": 0.031163,
     "end_time": "2024-11-23T23:41:10.836660",
     "exception": false,
     "start_time": "2024-11-23T23:41:10.805497",
     "status": "completed"
    },
    "tags": []
   },
   "outputs": [
    {
     "name": "stdout",
     "output_type": "stream",
     "text": [
      "Grouped Data Sum:\n",
      "          Values\n",
      "Category        \n",
      "A           40.0\n",
      "B           60.0\n",
      "C           50.0\n",
      "Grouped Data Mean:\n",
      "          Values\n",
      "Category        \n",
      "A           20.0\n",
      "B           30.0\n",
      "C           50.0\n",
      "Grouped Data Count:\n",
      "          Values\n",
      "Category        \n",
      "A              2\n",
      "B              2\n",
      "C              1\n",
      "Grouped Data Size:\n",
      "Category\n",
      "A    2\n",
      "B    2\n",
      "C    2\n",
      "dtype: int64\n"
     ]
    }
   ],
   "source": [
    "# Group by Category and sum Values\n",
    "df_group = df.groupby('Category')\n",
    "g_sum = df_group.sum()\n",
    "g_mean = df_group.mean()\n",
    "g_count = df_group.count()\n",
    "g_size= df_group.size()\n",
    "\n",
    "\n",
    "print(\"Grouped Data Sum:\")\n",
    "print(g_sum)\n",
    "print(\"Grouped Data Mean:\")\n",
    "print(g_mean)\n",
    "print(\"Grouped Data Count:\")\n",
    "print(g_count)\n",
    "print(\"Grouped Data Size:\")\n",
    "print(g_size)"
   ]
  },
  {
   "cell_type": "code",
   "execution_count": null,
   "id": "bcf514fb",
   "metadata": {
    "papermill": {
     "duration": 0.003141,
     "end_time": "2024-11-23T23:41:10.843234",
     "exception": false,
     "start_time": "2024-11-23T23:41:10.840093",
     "status": "completed"
    },
    "tags": []
   },
   "outputs": [],
   "source": []
  }
 ],
 "metadata": {
  "kaggle": {
   "accelerator": "none",
   "dataSources": [],
   "dockerImageVersionId": 30786,
   "isGpuEnabled": false,
   "isInternetEnabled": true,
   "language": "python",
   "sourceType": "notebook"
  },
  "kernelspec": {
   "display_name": "Python 3",
   "language": "python",
   "name": "python3"
  },
  "language_info": {
   "codemirror_mode": {
    "name": "ipython",
    "version": 3
   },
   "file_extension": ".py",
   "mimetype": "text/x-python",
   "name": "python",
   "nbconvert_exporter": "python",
   "pygments_lexer": "ipython3",
   "version": "3.10.14"
  },
  "papermill": {
   "default_parameters": {},
   "duration": 4.364795,
   "end_time": "2024-11-23T23:41:11.367378",
   "environment_variables": {},
   "exception": null,
   "input_path": "__notebook__.ipynb",
   "output_path": "__notebook__.ipynb",
   "parameters": {},
   "start_time": "2024-11-23T23:41:07.002583",
   "version": "2.6.0"
  }
 },
 "nbformat": 4,
 "nbformat_minor": 5
}
