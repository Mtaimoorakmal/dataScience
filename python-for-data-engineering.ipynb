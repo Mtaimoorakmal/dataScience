{
 "cells": [
  {
   "cell_type": "code",
   "execution_count": 1,
   "id": "62acc770",
   "metadata": {
    "_cell_guid": "b1076dfc-b9ad-4769-8c92-a6c4dae69d19",
    "_uuid": "8f2839f25d086af736a60e9eeb907d3b93b6e0e5",
    "execution": {
     "iopub.execute_input": "2024-11-23T23:33:28.514525Z",
     "iopub.status.busy": "2024-11-23T23:33:28.513968Z",
     "iopub.status.idle": "2024-11-23T23:33:29.518071Z",
     "shell.execute_reply": "2024-11-23T23:33:29.516283Z"
    },
    "papermill": {
     "duration": 1.01379,
     "end_time": "2024-11-23T23:33:29.523046",
     "exception": false,
     "start_time": "2024-11-23T23:33:28.509256",
     "status": "completed"
    },
    "tags": []
   },
   "outputs": [],
   "source": [
    "# This Python 3 environment comes with many helpful analytics libraries installed\n",
    "# It is defined by the kaggle/python Docker image: https://github.com/kaggle/docker-python\n",
    "# For example, here's several helpful packages to load\n",
    "\n",
    "import numpy as np # linear algebra\n",
    "import pandas as pd # data processing, CSV file I/O (e.g. pd.read_csv)\n",
    "\n",
    "# Input data files are available in the read-only \"../input/\" directory\n",
    "# For example, running this (by clicking run or pressing Shift+Enter) will list all files under the input directory\n",
    "\n",
    "import os\n",
    "for dirname, _, filenames in os.walk('/kaggle/input'):\n",
    "    for filename in filenames:\n",
    "        print(os.path.join(dirname, filename))\n",
    "\n",
    "# You can write up to 20GB to the current directory (/kaggle/working/) that gets preserved as output when you create a version using \"Save & Run All\" \n",
    "# You can also write temporary files to /kaggle/temp/, but they won't be saved outside of the current session"
   ]
  },
  {
   "cell_type": "code",
   "execution_count": 2,
   "id": "4d9892c6",
   "metadata": {
    "execution": {
     "iopub.execute_input": "2024-11-23T23:33:29.533463Z",
     "iopub.status.busy": "2024-11-23T23:33:29.532958Z",
     "iopub.status.idle": "2024-11-23T23:33:29.572987Z",
     "shell.execute_reply": "2024-11-23T23:33:29.570175Z"
    },
    "papermill": {
     "duration": 0.047952,
     "end_time": "2024-11-23T23:33:29.575852",
     "exception": false,
     "start_time": "2024-11-23T23:33:29.527900",
     "status": "completed"
    },
    "tags": []
   },
   "outputs": [
    {
     "data": {
      "text/html": [
       "<div>\n",
       "<style scoped>\n",
       "    .dataframe tbody tr th:only-of-type {\n",
       "        vertical-align: middle;\n",
       "    }\n",
       "\n",
       "    .dataframe tbody tr th {\n",
       "        vertical-align: top;\n",
       "    }\n",
       "\n",
       "    .dataframe thead th {\n",
       "        text-align: right;\n",
       "    }\n",
       "</style>\n",
       "<table border=\"1\" class=\"dataframe\">\n",
       "  <thead>\n",
       "    <tr style=\"text-align: right;\">\n",
       "      <th></th>\n",
       "      <th>Name</th>\n",
       "      <th>Age</th>\n",
       "      <th>Salary</th>\n",
       "    </tr>\n",
       "  </thead>\n",
       "  <tbody>\n",
       "    <tr>\n",
       "      <th>0</th>\n",
       "      <td>Alice</td>\n",
       "      <td>24</td>\n",
       "      <td>50000.0</td>\n",
       "    </tr>\n",
       "    <tr>\n",
       "      <th>1</th>\n",
       "      <td>Bob</td>\n",
       "      <td>27</td>\n",
       "      <td>60000.0</td>\n",
       "    </tr>\n",
       "    <tr>\n",
       "      <th>2</th>\n",
       "      <td>None</td>\n",
       "      <td>22</td>\n",
       "      <td>55000.0</td>\n",
       "    </tr>\n",
       "    <tr>\n",
       "      <th>3</th>\n",
       "      <td>David</td>\n",
       "      <td>None</td>\n",
       "      <td>45000.0</td>\n",
       "    </tr>\n",
       "    <tr>\n",
       "      <th>4</th>\n",
       "      <td>Jhon</td>\n",
       "      <td>31</td>\n",
       "      <td>NaN</td>\n",
       "    </tr>\n",
       "  </tbody>\n",
       "</table>\n",
       "</div>"
      ],
      "text/plain": [
       "    Name   Age   Salary\n",
       "0  Alice    24  50000.0\n",
       "1    Bob    27  60000.0\n",
       "2   None    22  55000.0\n",
       "3  David  None  45000.0\n",
       "4   Jhon    31      NaN"
      ]
     },
     "execution_count": 2,
     "metadata": {},
     "output_type": "execute_result"
    }
   ],
   "source": [
    "# Load sample data\n",
    "data = {'Name': ['Alice', 'Bob', None, 'David' ,'Jhon' , 'Leo'],\n",
    "        'Age': [24, 27, 22, None , '31'  , None],\n",
    "        'Salary': [50000, 60000, 55000, 45000 , None , 75000]}\n",
    "df = pd.DataFrame(data)\n",
    "df.head()"
   ]
  },
  {
   "cell_type": "code",
   "execution_count": 3,
   "id": "fdf2a258",
   "metadata": {
    "execution": {
     "iopub.execute_input": "2024-11-23T23:33:29.585179Z",
     "iopub.status.busy": "2024-11-23T23:33:29.583564Z",
     "iopub.status.idle": "2024-11-23T23:33:29.604223Z",
     "shell.execute_reply": "2024-11-23T23:33:29.601945Z"
    },
    "papermill": {
     "duration": 0.028331,
     "end_time": "2024-11-23T23:33:29.607342",
     "exception": false,
     "start_time": "2024-11-23T23:33:29.579011",
     "status": "completed"
    },
    "tags": []
   },
   "outputs": [
    {
     "name": "stdout",
     "output_type": "stream",
     "text": [
      "Cleaned Data:\n",
      "    Name Age   Salary\n",
      "0  Alice  24  50000.0\n",
      "1    Bob  27  60000.0 \n",
      " \n",
      "Average Salary: 55000.0\n"
     ]
    }
   ],
   "source": [
    "# Drop rows with missing values\n",
    "df_clean = df.dropna()\n",
    "\n",
    "# Calculate average salary\n",
    "avg_salary = df_clean['Salary'].mean()\n",
    "\n",
    "print(\"Cleaned Data:\")\n",
    "print(f\"{df_clean} \\n \")\n",
    "print(f\"Average Salary: {avg_salary}\")"
   ]
  },
  {
   "cell_type": "markdown",
   "id": "09297ac4",
   "metadata": {
    "papermill": {
     "duration": 0.004232,
     "end_time": "2024-11-23T23:33:29.616325",
     "exception": false,
     "start_time": "2024-11-23T23:33:29.612093",
     "status": "completed"
    },
    "tags": []
   },
   "source": [
    "**File Handling**"
   ]
  },
  {
   "cell_type": "code",
   "execution_count": 4,
   "id": "97d11cab",
   "metadata": {
    "execution": {
     "iopub.execute_input": "2024-11-23T23:33:29.625683Z",
     "iopub.status.busy": "2024-11-23T23:33:29.625150Z",
     "iopub.status.idle": "2024-11-23T23:33:29.638926Z",
     "shell.execute_reply": "2024-11-23T23:33:29.637578Z"
    },
    "papermill": {
     "duration": 0.02179,
     "end_time": "2024-11-23T23:33:29.642086",
     "exception": false,
     "start_time": "2024-11-23T23:33:29.620296",
     "status": "completed"
    },
    "tags": []
   },
   "outputs": [],
   "source": [
    "# Save DataFrame to a CSV file\n",
    "df_clean.to_csv('clean_data.csv' , index = False)"
   ]
  },
  {
   "cell_type": "code",
   "execution_count": 5,
   "id": "e2e5eaad",
   "metadata": {
    "execution": {
     "iopub.execute_input": "2024-11-23T23:33:29.650715Z",
     "iopub.status.busy": "2024-11-23T23:33:29.650198Z",
     "iopub.status.idle": "2024-11-23T23:33:29.664360Z",
     "shell.execute_reply": "2024-11-23T23:33:29.663206Z"
    },
    "papermill": {
     "duration": 0.020753,
     "end_time": "2024-11-23T23:33:29.666676",
     "exception": false,
     "start_time": "2024-11-23T23:33:29.645923",
     "status": "completed"
    },
    "tags": []
   },
   "outputs": [
    {
     "name": "stdout",
     "output_type": "stream",
     "text": [
      "Loaded Data:\n",
      "    Name  Age   Salary\n",
      "0  Alice   24  50000.0\n",
      "1    Bob   27  60000.0\n"
     ]
    }
   ],
   "source": [
    "# Load the saved CSV file\n",
    "load_df = pd.read_csv('clean_data.csv')\n",
    "print(\"Loaded Data:\")\n",
    "print(load_df)"
   ]
  },
  {
   "cell_type": "code",
   "execution_count": null,
   "id": "b964eed4",
   "metadata": {
    "execution": {
     "iopub.execute_input": "2024-11-23T23:32:20.523847Z",
     "iopub.status.busy": "2024-11-23T23:32:20.523437Z",
     "iopub.status.idle": "2024-11-23T23:32:20.536218Z",
     "shell.execute_reply": "2024-11-23T23:32:20.534904Z",
     "shell.execute_reply.started": "2024-11-23T23:32:20.523810Z"
    },
    "papermill": {
     "duration": 0.002537,
     "end_time": "2024-11-23T23:33:29.672067",
     "exception": false,
     "start_time": "2024-11-23T23:33:29.669530",
     "status": "completed"
    },
    "tags": []
   },
   "outputs": [],
   "source": []
  },
  {
   "cell_type": "code",
   "execution_count": null,
   "id": "7fed1a26",
   "metadata": {
    "papermill": {
     "duration": 0.002506,
     "end_time": "2024-11-23T23:33:29.677310",
     "exception": false,
     "start_time": "2024-11-23T23:33:29.674804",
     "status": "completed"
    },
    "tags": []
   },
   "outputs": [],
   "source": []
  }
 ],
 "metadata": {
  "kaggle": {
   "accelerator": "none",
   "dataSources": [],
   "dockerImageVersionId": 30786,
   "isGpuEnabled": false,
   "isInternetEnabled": true,
   "language": "python",
   "sourceType": "notebook"
  },
  "kernelspec": {
   "display_name": "Python 3",
   "language": "python",
   "name": "python3"
  },
  "language_info": {
   "codemirror_mode": {
    "name": "ipython",
    "version": 3
   },
   "file_extension": ".py",
   "mimetype": "text/x-python",
   "name": "python",
   "nbconvert_exporter": "python",
   "pygments_lexer": "ipython3",
   "version": "3.10.14"
  },
  "papermill": {
   "default_parameters": {},
   "duration": 4.465699,
   "end_time": "2024-11-23T23:33:30.202318",
   "environment_variables": {},
   "exception": null,
   "input_path": "__notebook__.ipynb",
   "output_path": "__notebook__.ipynb",
   "parameters": {},
   "start_time": "2024-11-23T23:33:25.736619",
   "version": "2.6.0"
  }
 },
 "nbformat": 4,
 "nbformat_minor": 5
}
