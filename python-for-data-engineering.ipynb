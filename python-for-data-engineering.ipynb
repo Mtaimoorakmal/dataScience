{
 "cells": [
  {
   "cell_type": "code",
   "execution_count": 1,
   "id": "35e2d274",
   "metadata": {
    "_cell_guid": "b1076dfc-b9ad-4769-8c92-a6c4dae69d19",
    "_uuid": "8f2839f25d086af736a60e9eeb907d3b93b6e0e5",
    "execution": {
     "iopub.execute_input": "2024-11-24T00:58:34.184096Z",
     "iopub.status.busy": "2024-11-24T00:58:34.183622Z",
     "iopub.status.idle": "2024-11-24T00:58:35.027453Z",
     "shell.execute_reply": "2024-11-24T00:58:35.026324Z"
    },
    "papermill": {
     "duration": 0.852467,
     "end_time": "2024-11-24T00:58:35.030022",
     "exception": false,
     "start_time": "2024-11-24T00:58:34.177555",
     "status": "completed"
    },
    "tags": []
   },
   "outputs": [],
   "source": [
    "# This Python 3 environment comes with many helpful analytics libraries installed\n",
    "# It is defined by the kaggle/python Docker image: https://github.com/kaggle/docker-python\n",
    "# For example, here's several helpful packages to load\n",
    "\n",
    "import numpy as np # linear algebra\n",
    "import pandas as pd # data processing, CSV file I/O (e.g. pd.read_csv)\n",
    "\n",
    "# Input data files are available in the read-only \"../input/\" directory\n",
    "# For example, running this (by clicking run or pressing Shift+Enter) will list all files under the input directory\n",
    "\n",
    "import os\n",
    "for dirname, _, filenames in os.walk('/kaggle/input'):\n",
    "    for filename in filenames:\n",
    "        print(os.path.join(dirname, filename))\n",
    "\n",
    "# You can write up to 20GB to the current directory (/kaggle/working/) that gets preserved as output when you create a version using \"Save & Run All\" \n",
    "# You can also write temporary files to /kaggle/temp/, but they won't be saved outside of the current session"
   ]
  },
  {
   "cell_type": "code",
   "execution_count": 2,
   "id": "a21d51c5",
   "metadata": {
    "execution": {
     "iopub.execute_input": "2024-11-24T00:58:35.039352Z",
     "iopub.status.busy": "2024-11-24T00:58:35.038884Z",
     "iopub.status.idle": "2024-11-24T00:58:35.063555Z",
     "shell.execute_reply": "2024-11-24T00:58:35.062594Z"
    },
    "papermill": {
     "duration": 0.031561,
     "end_time": "2024-11-24T00:58:35.065827",
     "exception": false,
     "start_time": "2024-11-24T00:58:35.034266",
     "status": "completed"
    },
    "tags": []
   },
   "outputs": [
    {
     "data": {
      "text/html": [
       "<div>\n",
       "<style scoped>\n",
       "    .dataframe tbody tr th:only-of-type {\n",
       "        vertical-align: middle;\n",
       "    }\n",
       "\n",
       "    .dataframe tbody tr th {\n",
       "        vertical-align: top;\n",
       "    }\n",
       "\n",
       "    .dataframe thead th {\n",
       "        text-align: right;\n",
       "    }\n",
       "</style>\n",
       "<table border=\"1\" class=\"dataframe\">\n",
       "  <thead>\n",
       "    <tr style=\"text-align: right;\">\n",
       "      <th></th>\n",
       "      <th>Name</th>\n",
       "      <th>Age</th>\n",
       "      <th>Salary</th>\n",
       "    </tr>\n",
       "  </thead>\n",
       "  <tbody>\n",
       "    <tr>\n",
       "      <th>0</th>\n",
       "      <td>Alice</td>\n",
       "      <td>24</td>\n",
       "      <td>50000.0</td>\n",
       "    </tr>\n",
       "    <tr>\n",
       "      <th>1</th>\n",
       "      <td>Bob</td>\n",
       "      <td>27</td>\n",
       "      <td>60000.0</td>\n",
       "    </tr>\n",
       "    <tr>\n",
       "      <th>2</th>\n",
       "      <td>None</td>\n",
       "      <td>22</td>\n",
       "      <td>55000.0</td>\n",
       "    </tr>\n",
       "    <tr>\n",
       "      <th>3</th>\n",
       "      <td>David</td>\n",
       "      <td>None</td>\n",
       "      <td>45000.0</td>\n",
       "    </tr>\n",
       "    <tr>\n",
       "      <th>4</th>\n",
       "      <td>Jhon</td>\n",
       "      <td>31</td>\n",
       "      <td>NaN</td>\n",
       "    </tr>\n",
       "  </tbody>\n",
       "</table>\n",
       "</div>"
      ],
      "text/plain": [
       "    Name   Age   Salary\n",
       "0  Alice    24  50000.0\n",
       "1    Bob    27  60000.0\n",
       "2   None    22  55000.0\n",
       "3  David  None  45000.0\n",
       "4   Jhon    31      NaN"
      ]
     },
     "execution_count": 2,
     "metadata": {},
     "output_type": "execute_result"
    }
   ],
   "source": [
    "# Load sample data\n",
    "data = {'Name': ['Alice', 'Bob', None, 'David' ,'Jhon' , 'Leo'],\n",
    "        'Age': [24, 27, 22, None , '31'  , None],\n",
    "        'Salary': [50000, 60000, 55000, 45000 , None , 75000]}\n",
    "df = pd.DataFrame(data)\n",
    "df.head()"
   ]
  },
  {
   "cell_type": "code",
   "execution_count": 3,
   "id": "6c406b29",
   "metadata": {
    "execution": {
     "iopub.execute_input": "2024-11-24T00:58:35.075170Z",
     "iopub.status.busy": "2024-11-24T00:58:35.074557Z",
     "iopub.status.idle": "2024-11-24T00:58:35.088691Z",
     "shell.execute_reply": "2024-11-24T00:58:35.087683Z"
    },
    "papermill": {
     "duration": 0.021019,
     "end_time": "2024-11-24T00:58:35.090826",
     "exception": false,
     "start_time": "2024-11-24T00:58:35.069807",
     "status": "completed"
    },
    "tags": []
   },
   "outputs": [
    {
     "name": "stdout",
     "output_type": "stream",
     "text": [
      "Cleaned Data:\n",
      "    Name Age   Salary\n",
      "0  Alice  24  50000.0\n",
      "1    Bob  27  60000.0 \n",
      " \n",
      "Average Salary: 55000.0\n"
     ]
    }
   ],
   "source": [
    "# Drop rows with missing values\n",
    "df_clean = df.dropna()\n",
    "\n",
    "# Calculate average salary\n",
    "avg_salary = df_clean['Salary'].mean()\n",
    "\n",
    "print(\"Cleaned Data:\")\n",
    "print(f\"{df_clean} \\n \")\n",
    "print(f\"Average Salary: {avg_salary}\")"
   ]
  },
  {
   "cell_type": "markdown",
   "id": "ef6b9e51",
   "metadata": {
    "papermill": {
     "duration": 0.003343,
     "end_time": "2024-11-24T00:58:35.097888",
     "exception": false,
     "start_time": "2024-11-24T00:58:35.094545",
     "status": "completed"
    },
    "tags": []
   },
   "source": [
    "**File Handling**"
   ]
  },
  {
   "cell_type": "code",
   "execution_count": 4,
   "id": "a0169c86",
   "metadata": {
    "execution": {
     "iopub.execute_input": "2024-11-24T00:58:35.107794Z",
     "iopub.status.busy": "2024-11-24T00:58:35.107400Z",
     "iopub.status.idle": "2024-11-24T00:58:35.117663Z",
     "shell.execute_reply": "2024-11-24T00:58:35.116674Z"
    },
    "papermill": {
     "duration": 0.018239,
     "end_time": "2024-11-24T00:58:35.119889",
     "exception": false,
     "start_time": "2024-11-24T00:58:35.101650",
     "status": "completed"
    },
    "tags": []
   },
   "outputs": [],
   "source": [
    "# Save DataFrame to a CSV file\n",
    "df_clean.to_csv('clean_data.csv' , index = False)"
   ]
  },
  {
   "cell_type": "code",
   "execution_count": 5,
   "id": "783220a4",
   "metadata": {
    "execution": {
     "iopub.execute_input": "2024-11-24T00:58:35.128837Z",
     "iopub.status.busy": "2024-11-24T00:58:35.128439Z",
     "iopub.status.idle": "2024-11-24T00:58:35.138876Z",
     "shell.execute_reply": "2024-11-24T00:58:35.137779Z"
    },
    "papermill": {
     "duration": 0.017339,
     "end_time": "2024-11-24T00:58:35.140973",
     "exception": false,
     "start_time": "2024-11-24T00:58:35.123634",
     "status": "completed"
    },
    "tags": []
   },
   "outputs": [
    {
     "name": "stdout",
     "output_type": "stream",
     "text": [
      "Loaded Data:\n",
      "    Name  Age   Salary\n",
      "0  Alice   24  50000.0\n",
      "1    Bob   27  60000.0\n"
     ]
    }
   ],
   "source": [
    "# Load the saved CSV file\n",
    "load_df = pd.read_csv('clean_data.csv')\n",
    "print(\"Loaded Data:\")\n",
    "print(load_df)"
   ]
  },
  {
   "cell_type": "markdown",
   "id": "c621bfc2",
   "metadata": {
    "papermill": {
     "duration": 0.00333,
     "end_time": "2024-11-24T00:58:35.147996",
     "exception": false,
     "start_time": "2024-11-24T00:58:35.144666",
     "status": "completed"
    },
    "tags": []
   },
   "source": [
    "**Data Aggregation and Grouping**"
   ]
  },
  {
   "cell_type": "code",
   "execution_count": 6,
   "id": "4da7f5b4",
   "metadata": {
    "execution": {
     "iopub.execute_input": "2024-11-24T00:58:35.156550Z",
     "iopub.status.busy": "2024-11-24T00:58:35.156193Z",
     "iopub.status.idle": "2024-11-24T00:58:35.167006Z",
     "shell.execute_reply": "2024-11-24T00:58:35.166055Z"
    },
    "papermill": {
     "duration": 0.017292,
     "end_time": "2024-11-24T00:58:35.168965",
     "exception": false,
     "start_time": "2024-11-24T00:58:35.151673",
     "status": "completed"
    },
    "tags": []
   },
   "outputs": [
    {
     "data": {
      "text/html": [
       "<div>\n",
       "<style scoped>\n",
       "    .dataframe tbody tr th:only-of-type {\n",
       "        vertical-align: middle;\n",
       "    }\n",
       "\n",
       "    .dataframe tbody tr th {\n",
       "        vertical-align: top;\n",
       "    }\n",
       "\n",
       "    .dataframe thead th {\n",
       "        text-align: right;\n",
       "    }\n",
       "</style>\n",
       "<table border=\"1\" class=\"dataframe\">\n",
       "  <thead>\n",
       "    <tr style=\"text-align: right;\">\n",
       "      <th></th>\n",
       "      <th>Category</th>\n",
       "      <th>Values</th>\n",
       "    </tr>\n",
       "  </thead>\n",
       "  <tbody>\n",
       "    <tr>\n",
       "      <th>0</th>\n",
       "      <td>A</td>\n",
       "      <td>10.0</td>\n",
       "    </tr>\n",
       "    <tr>\n",
       "      <th>1</th>\n",
       "      <td>B</td>\n",
       "      <td>20.0</td>\n",
       "    </tr>\n",
       "    <tr>\n",
       "      <th>2</th>\n",
       "      <td>A</td>\n",
       "      <td>30.0</td>\n",
       "    </tr>\n",
       "    <tr>\n",
       "      <th>3</th>\n",
       "      <td>B</td>\n",
       "      <td>40.0</td>\n",
       "    </tr>\n",
       "    <tr>\n",
       "      <th>4</th>\n",
       "      <td>C</td>\n",
       "      <td>50.0</td>\n",
       "    </tr>\n",
       "    <tr>\n",
       "      <th>5</th>\n",
       "      <td>C</td>\n",
       "      <td>NaN</td>\n",
       "    </tr>\n",
       "  </tbody>\n",
       "</table>\n",
       "</div>"
      ],
      "text/plain": [
       "  Category  Values\n",
       "0        A    10.0\n",
       "1        B    20.0\n",
       "2        A    30.0\n",
       "3        B    40.0\n",
       "4        C    50.0\n",
       "5        C     NaN"
      ]
     },
     "execution_count": 6,
     "metadata": {},
     "output_type": "execute_result"
    }
   ],
   "source": [
    "data = {'Category': ['A', 'B', 'A', 'B', 'C' , 'C'],\n",
    "        'Values': [10, 20, 30, 40, 50 , None]}\n",
    "\n",
    "df = pd.DataFrame(data)\n",
    "df"
   ]
  },
  {
   "cell_type": "code",
   "execution_count": 7,
   "id": "e0afd63c",
   "metadata": {
    "execution": {
     "iopub.execute_input": "2024-11-24T00:58:35.177888Z",
     "iopub.status.busy": "2024-11-24T00:58:35.177493Z",
     "iopub.status.idle": "2024-11-24T00:58:35.199922Z",
     "shell.execute_reply": "2024-11-24T00:58:35.198973Z"
    },
    "papermill": {
     "duration": 0.029453,
     "end_time": "2024-11-24T00:58:35.202328",
     "exception": false,
     "start_time": "2024-11-24T00:58:35.172875",
     "status": "completed"
    },
    "tags": []
   },
   "outputs": [
    {
     "name": "stdout",
     "output_type": "stream",
     "text": [
      "Grouped Data Sum:\n",
      "          Values\n",
      "Category        \n",
      "A           40.0\n",
      "B           60.0\n",
      "C           50.0\n",
      "Grouped Data Mean:\n",
      "          Values\n",
      "Category        \n",
      "A           20.0\n",
      "B           30.0\n",
      "C           50.0\n",
      "Grouped Data Count:\n",
      "          Values\n",
      "Category        \n",
      "A              2\n",
      "B              2\n",
      "C              1\n",
      "Grouped Data Size:\n",
      "Category\n",
      "A    2\n",
      "B    2\n",
      "C    2\n",
      "dtype: int64\n"
     ]
    }
   ],
   "source": [
    "# Group by Category and sum Values\n",
    "df_group = df.groupby('Category')\n",
    "g_sum = df_group.sum()\n",
    "g_mean = df_group.mean()\n",
    "g_count = df_group.count()\n",
    "g_size= df_group.size()\n",
    "\n",
    "\n",
    "print(\"Grouped Data Sum:\")\n",
    "print(g_sum)\n",
    "print(\"Grouped Data Mean:\")\n",
    "print(g_mean)\n",
    "print(\"Grouped Data Count:\")\n",
    "print(g_count)\n",
    "print(\"Grouped Data Size:\")\n",
    "print(g_size)"
   ]
  },
  {
   "cell_type": "markdown",
   "id": "2523e22c",
   "metadata": {
    "papermill": {
     "duration": 0.003457,
     "end_time": "2024-11-24T00:58:35.210599",
     "exception": false,
     "start_time": "2024-11-24T00:58:35.207142",
     "status": "completed"
    },
    "tags": []
   },
   "source": [
    "**Exception Handling**"
   ]
  },
  {
   "cell_type": "code",
   "execution_count": 8,
   "id": "1e840c46",
   "metadata": {
    "execution": {
     "iopub.execute_input": "2024-11-24T00:58:35.219455Z",
     "iopub.status.busy": "2024-11-24T00:58:35.219098Z",
     "iopub.status.idle": "2024-11-24T00:58:35.225579Z",
     "shell.execute_reply": "2024-11-24T00:58:35.224444Z"
    },
    "papermill": {
     "duration": 0.01352,
     "end_time": "2024-11-24T00:58:35.227733",
     "exception": false,
     "start_time": "2024-11-24T00:58:35.214213",
     "status": "completed"
    },
    "tags": []
   },
   "outputs": [
    {
     "name": "stdout",
     "output_type": "stream",
     "text": [
      "There is an error: [Errno 2] No such file or directory: 'no_file'\n"
     ]
    }
   ],
   "source": [
    "#read a non-existing file and handle the Erroe \n",
    "try:\n",
    "    df = pd.read_csv('no_file')\n",
    "    print(\"file found\")\n",
    "except FileNotFoundError as e:\n",
    "    print(f'There is an error: {e}')"
   ]
  },
  {
   "cell_type": "markdown",
   "id": "ccfae29b",
   "metadata": {
    "papermill": {
     "duration": 0.003498,
     "end_time": "2024-11-24T00:58:35.235136",
     "exception": false,
     "start_time": "2024-11-24T00:58:35.231638",
     "status": "completed"
    },
    "tags": []
   },
   "source": [
    "**Working with Dates**<br>\n",
    "Example: Convert a column to datetime and filter by date range"
   ]
  },
  {
   "cell_type": "code",
   "execution_count": 9,
   "id": "e9818717",
   "metadata": {
    "execution": {
     "iopub.execute_input": "2024-11-24T00:58:35.244496Z",
     "iopub.status.busy": "2024-11-24T00:58:35.243598Z",
     "iopub.status.idle": "2024-11-24T00:58:35.258879Z",
     "shell.execute_reply": "2024-11-24T00:58:35.257764Z"
    },
    "papermill": {
     "duration": 0.022221,
     "end_time": "2024-11-24T00:58:35.261032",
     "exception": false,
     "start_time": "2024-11-24T00:58:35.238811",
     "status": "completed"
    },
    "tags": []
   },
   "outputs": [
    {
     "name": "stdout",
     "output_type": "stream",
     "text": [
      "<class 'pandas.core.frame.DataFrame'>\n",
      "RangeIndex: 3 entries, 0 to 2\n",
      "Data columns (total 2 columns):\n",
      " #   Column  Non-Null Count  Dtype \n",
      "---  ------  --------------  ----- \n",
      " 0   Date    3 non-null      object\n",
      " 1   Values  3 non-null      int64 \n",
      "dtypes: int64(1), object(1)\n",
      "memory usage: 176.0+ bytes\n"
     ]
    }
   ],
   "source": [
    "data = {'Date': ['2024-01-01', '2024-02-15', '2024-03-10'],\n",
    "        'Values': [10, 20, 30]}\n",
    "df_date = pd.DataFrame(data)\n",
    "df_date.info()"
   ]
  },
  {
   "cell_type": "code",
   "execution_count": 10,
   "id": "1d83c9f3",
   "metadata": {
    "execution": {
     "iopub.execute_input": "2024-11-24T00:58:35.270663Z",
     "iopub.status.busy": "2024-11-24T00:58:35.270298Z",
     "iopub.status.idle": "2024-11-24T00:58:35.284402Z",
     "shell.execute_reply": "2024-11-24T00:58:35.283295Z"
    },
    "papermill": {
     "duration": 0.021584,
     "end_time": "2024-11-24T00:58:35.286685",
     "exception": false,
     "start_time": "2024-11-24T00:58:35.265101",
     "status": "completed"
    },
    "tags": []
   },
   "outputs": [
    {
     "name": "stdout",
     "output_type": "stream",
     "text": [
      "<class 'pandas.core.frame.DataFrame'>\n",
      "RangeIndex: 3 entries, 0 to 2\n",
      "Data columns (total 2 columns):\n",
      " #   Column  Non-Null Count  Dtype         \n",
      "---  ------  --------------  -----         \n",
      " 0   Date    3 non-null      datetime64[ns]\n",
      " 1   Values  3 non-null      int64         \n",
      "dtypes: datetime64[ns](1), int64(1)\n",
      "memory usage: 176.0 bytes\n"
     ]
    }
   ],
   "source": [
    "df_date['Date'] = pd.to_datetime(df_date['Date'])\n",
    "df_date.info()"
   ]
  },
  {
   "cell_type": "code",
   "execution_count": null,
   "id": "62a9cad1",
   "metadata": {
    "papermill": {
     "duration": 0.00379,
     "end_time": "2024-11-24T00:58:35.294629",
     "exception": false,
     "start_time": "2024-11-24T00:58:35.290839",
     "status": "completed"
    },
    "tags": []
   },
   "outputs": [],
   "source": []
  }
 ],
 "metadata": {
  "kaggle": {
   "accelerator": "none",
   "dataSources": [],
   "dockerImageVersionId": 30786,
   "isGpuEnabled": false,
   "isInternetEnabled": true,
   "language": "python",
   "sourceType": "notebook"
  },
  "kernelspec": {
   "display_name": "Python 3",
   "language": "python",
   "name": "python3"
  },
  "language_info": {
   "codemirror_mode": {
    "name": "ipython",
    "version": 3
   },
   "file_extension": ".py",
   "mimetype": "text/x-python",
   "name": "python",
   "nbconvert_exporter": "python",
   "pygments_lexer": "ipython3",
   "version": "3.10.14"
  },
  "papermill": {
   "default_parameters": {},
   "duration": 4.282992,
   "end_time": "2024-11-24T00:58:35.820202",
   "environment_variables": {},
   "exception": null,
   "input_path": "__notebook__.ipynb",
   "output_path": "__notebook__.ipynb",
   "parameters": {},
   "start_time": "2024-11-24T00:58:31.537210",
   "version": "2.6.0"
  }
 },
 "nbformat": 4,
 "nbformat_minor": 5
}
