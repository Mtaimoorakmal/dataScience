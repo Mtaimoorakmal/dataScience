{
 "cells": [
  {
   "cell_type": "code",
   "execution_count": 1,
   "id": "b4cfc188",
   "metadata": {
    "_cell_guid": "b1076dfc-b9ad-4769-8c92-a6c4dae69d19",
    "_uuid": "8f2839f25d086af736a60e9eeb907d3b93b6e0e5",
    "execution": {
     "iopub.execute_input": "2024-11-23T23:45:21.860020Z",
     "iopub.status.busy": "2024-11-23T23:45:21.859635Z",
     "iopub.status.idle": "2024-11-23T23:45:22.705463Z",
     "shell.execute_reply": "2024-11-23T23:45:22.704529Z"
    },
    "papermill": {
     "duration": 0.853267,
     "end_time": "2024-11-23T23:45:22.707982",
     "exception": false,
     "start_time": "2024-11-23T23:45:21.854715",
     "status": "completed"
    },
    "tags": []
   },
   "outputs": [],
   "source": [
    "# This Python 3 environment comes with many helpful analytics libraries installed\n",
    "# It is defined by the kaggle/python Docker image: https://github.com/kaggle/docker-python\n",
    "# For example, here's several helpful packages to load\n",
    "\n",
    "import numpy as np # linear algebra\n",
    "import pandas as pd # data processing, CSV file I/O (e.g. pd.read_csv)\n",
    "\n",
    "# Input data files are available in the read-only \"../input/\" directory\n",
    "# For example, running this (by clicking run or pressing Shift+Enter) will list all files under the input directory\n",
    "\n",
    "import os\n",
    "for dirname, _, filenames in os.walk('/kaggle/input'):\n",
    "    for filename in filenames:\n",
    "        print(os.path.join(dirname, filename))\n",
    "\n",
    "# You can write up to 20GB to the current directory (/kaggle/working/) that gets preserved as output when you create a version using \"Save & Run All\" \n",
    "# You can also write temporary files to /kaggle/temp/, but they won't be saved outside of the current session"
   ]
  },
  {
   "cell_type": "code",
   "execution_count": 2,
   "id": "da4a97ca",
   "metadata": {
    "execution": {
     "iopub.execute_input": "2024-11-23T23:45:22.715724Z",
     "iopub.status.busy": "2024-11-23T23:45:22.715266Z",
     "iopub.status.idle": "2024-11-23T23:45:22.737856Z",
     "shell.execute_reply": "2024-11-23T23:45:22.736887Z"
    },
    "papermill": {
     "duration": 0.028875,
     "end_time": "2024-11-23T23:45:22.739999",
     "exception": false,
     "start_time": "2024-11-23T23:45:22.711124",
     "status": "completed"
    },
    "tags": []
   },
   "outputs": [
    {
     "data": {
      "text/html": [
       "<div>\n",
       "<style scoped>\n",
       "    .dataframe tbody tr th:only-of-type {\n",
       "        vertical-align: middle;\n",
       "    }\n",
       "\n",
       "    .dataframe tbody tr th {\n",
       "        vertical-align: top;\n",
       "    }\n",
       "\n",
       "    .dataframe thead th {\n",
       "        text-align: right;\n",
       "    }\n",
       "</style>\n",
       "<table border=\"1\" class=\"dataframe\">\n",
       "  <thead>\n",
       "    <tr style=\"text-align: right;\">\n",
       "      <th></th>\n",
       "      <th>Name</th>\n",
       "      <th>Age</th>\n",
       "      <th>Salary</th>\n",
       "    </tr>\n",
       "  </thead>\n",
       "  <tbody>\n",
       "    <tr>\n",
       "      <th>0</th>\n",
       "      <td>Alice</td>\n",
       "      <td>24</td>\n",
       "      <td>50000.0</td>\n",
       "    </tr>\n",
       "    <tr>\n",
       "      <th>1</th>\n",
       "      <td>Bob</td>\n",
       "      <td>27</td>\n",
       "      <td>60000.0</td>\n",
       "    </tr>\n",
       "    <tr>\n",
       "      <th>2</th>\n",
       "      <td>None</td>\n",
       "      <td>22</td>\n",
       "      <td>55000.0</td>\n",
       "    </tr>\n",
       "    <tr>\n",
       "      <th>3</th>\n",
       "      <td>David</td>\n",
       "      <td>None</td>\n",
       "      <td>45000.0</td>\n",
       "    </tr>\n",
       "    <tr>\n",
       "      <th>4</th>\n",
       "      <td>Jhon</td>\n",
       "      <td>31</td>\n",
       "      <td>NaN</td>\n",
       "    </tr>\n",
       "  </tbody>\n",
       "</table>\n",
       "</div>"
      ],
      "text/plain": [
       "    Name   Age   Salary\n",
       "0  Alice    24  50000.0\n",
       "1    Bob    27  60000.0\n",
       "2   None    22  55000.0\n",
       "3  David  None  45000.0\n",
       "4   Jhon    31      NaN"
      ]
     },
     "execution_count": 2,
     "metadata": {},
     "output_type": "execute_result"
    }
   ],
   "source": [
    "# Load sample data\n",
    "data = {'Name': ['Alice', 'Bob', None, 'David' ,'Jhon' , 'Leo'],\n",
    "        'Age': [24, 27, 22, None , '31'  , None],\n",
    "        'Salary': [50000, 60000, 55000, 45000 , None , 75000]}\n",
    "df = pd.DataFrame(data)\n",
    "df.head()"
   ]
  },
  {
   "cell_type": "code",
   "execution_count": 3,
   "id": "6ef7c720",
   "metadata": {
    "execution": {
     "iopub.execute_input": "2024-11-23T23:45:22.747969Z",
     "iopub.status.busy": "2024-11-23T23:45:22.747570Z",
     "iopub.status.idle": "2024-11-23T23:45:22.761900Z",
     "shell.execute_reply": "2024-11-23T23:45:22.760879Z"
    },
    "papermill": {
     "duration": 0.021009,
     "end_time": "2024-11-23T23:45:22.764179",
     "exception": false,
     "start_time": "2024-11-23T23:45:22.743170",
     "status": "completed"
    },
    "tags": []
   },
   "outputs": [
    {
     "name": "stdout",
     "output_type": "stream",
     "text": [
      "Cleaned Data:\n",
      "    Name Age   Salary\n",
      "0  Alice  24  50000.0\n",
      "1    Bob  27  60000.0 \n",
      " \n",
      "Average Salary: 55000.0\n"
     ]
    }
   ],
   "source": [
    "# Drop rows with missing values\n",
    "df_clean = df.dropna()\n",
    "\n",
    "# Calculate average salary\n",
    "avg_salary = df_clean['Salary'].mean()\n",
    "\n",
    "print(\"Cleaned Data:\")\n",
    "print(f\"{df_clean} \\n \")\n",
    "print(f\"Average Salary: {avg_salary}\")"
   ]
  },
  {
   "cell_type": "markdown",
   "id": "bdad65a1",
   "metadata": {
    "papermill": {
     "duration": 0.002817,
     "end_time": "2024-11-23T23:45:22.770502",
     "exception": false,
     "start_time": "2024-11-23T23:45:22.767685",
     "status": "completed"
    },
    "tags": []
   },
   "source": [
    "**File Handling**"
   ]
  },
  {
   "cell_type": "code",
   "execution_count": 4,
   "id": "b404e00a",
   "metadata": {
    "execution": {
     "iopub.execute_input": "2024-11-23T23:45:22.778568Z",
     "iopub.status.busy": "2024-11-23T23:45:22.777552Z",
     "iopub.status.idle": "2024-11-23T23:45:22.787758Z",
     "shell.execute_reply": "2024-11-23T23:45:22.786758Z"
    },
    "papermill": {
     "duration": 0.016646,
     "end_time": "2024-11-23T23:45:22.790102",
     "exception": false,
     "start_time": "2024-11-23T23:45:22.773456",
     "status": "completed"
    },
    "tags": []
   },
   "outputs": [],
   "source": [
    "# Save DataFrame to a CSV file\n",
    "df_clean.to_csv('clean_data.csv' , index = False)"
   ]
  },
  {
   "cell_type": "code",
   "execution_count": 5,
   "id": "713698b2",
   "metadata": {
    "execution": {
     "iopub.execute_input": "2024-11-23T23:45:22.798336Z",
     "iopub.status.busy": "2024-11-23T23:45:22.797700Z",
     "iopub.status.idle": "2024-11-23T23:45:22.807399Z",
     "shell.execute_reply": "2024-11-23T23:45:22.806458Z"
    },
    "papermill": {
     "duration": 0.016014,
     "end_time": "2024-11-23T23:45:22.809525",
     "exception": false,
     "start_time": "2024-11-23T23:45:22.793511",
     "status": "completed"
    },
    "tags": []
   },
   "outputs": [
    {
     "name": "stdout",
     "output_type": "stream",
     "text": [
      "Loaded Data:\n",
      "    Name  Age   Salary\n",
      "0  Alice   24  50000.0\n",
      "1    Bob   27  60000.0\n"
     ]
    }
   ],
   "source": [
    "# Load the saved CSV file\n",
    "load_df = pd.read_csv('clean_data.csv')\n",
    "print(\"Loaded Data:\")\n",
    "print(load_df)"
   ]
  },
  {
   "cell_type": "markdown",
   "id": "018d502a",
   "metadata": {
    "papermill": {
     "duration": 0.003013,
     "end_time": "2024-11-23T23:45:22.815745",
     "exception": false,
     "start_time": "2024-11-23T23:45:22.812732",
     "status": "completed"
    },
    "tags": []
   },
   "source": [
    "**Data Aggregation and Grouping**"
   ]
  },
  {
   "cell_type": "code",
   "execution_count": 6,
   "id": "d96c5530",
   "metadata": {
    "execution": {
     "iopub.execute_input": "2024-11-23T23:45:22.823391Z",
     "iopub.status.busy": "2024-11-23T23:45:22.823020Z",
     "iopub.status.idle": "2024-11-23T23:45:22.833722Z",
     "shell.execute_reply": "2024-11-23T23:45:22.832691Z"
    },
    "papermill": {
     "duration": 0.016937,
     "end_time": "2024-11-23T23:45:22.835786",
     "exception": false,
     "start_time": "2024-11-23T23:45:22.818849",
     "status": "completed"
    },
    "tags": []
   },
   "outputs": [
    {
     "data": {
      "text/html": [
       "<div>\n",
       "<style scoped>\n",
       "    .dataframe tbody tr th:only-of-type {\n",
       "        vertical-align: middle;\n",
       "    }\n",
       "\n",
       "    .dataframe tbody tr th {\n",
       "        vertical-align: top;\n",
       "    }\n",
       "\n",
       "    .dataframe thead th {\n",
       "        text-align: right;\n",
       "    }\n",
       "</style>\n",
       "<table border=\"1\" class=\"dataframe\">\n",
       "  <thead>\n",
       "    <tr style=\"text-align: right;\">\n",
       "      <th></th>\n",
       "      <th>Category</th>\n",
       "      <th>Values</th>\n",
       "    </tr>\n",
       "  </thead>\n",
       "  <tbody>\n",
       "    <tr>\n",
       "      <th>0</th>\n",
       "      <td>A</td>\n",
       "      <td>10.0</td>\n",
       "    </tr>\n",
       "    <tr>\n",
       "      <th>1</th>\n",
       "      <td>B</td>\n",
       "      <td>20.0</td>\n",
       "    </tr>\n",
       "    <tr>\n",
       "      <th>2</th>\n",
       "      <td>A</td>\n",
       "      <td>30.0</td>\n",
       "    </tr>\n",
       "    <tr>\n",
       "      <th>3</th>\n",
       "      <td>B</td>\n",
       "      <td>40.0</td>\n",
       "    </tr>\n",
       "    <tr>\n",
       "      <th>4</th>\n",
       "      <td>C</td>\n",
       "      <td>50.0</td>\n",
       "    </tr>\n",
       "    <tr>\n",
       "      <th>5</th>\n",
       "      <td>C</td>\n",
       "      <td>NaN</td>\n",
       "    </tr>\n",
       "  </tbody>\n",
       "</table>\n",
       "</div>"
      ],
      "text/plain": [
       "  Category  Values\n",
       "0        A    10.0\n",
       "1        B    20.0\n",
       "2        A    30.0\n",
       "3        B    40.0\n",
       "4        C    50.0\n",
       "5        C     NaN"
      ]
     },
     "execution_count": 6,
     "metadata": {},
     "output_type": "execute_result"
    }
   ],
   "source": [
    "data = {'Category': ['A', 'B', 'A', 'B', 'C' , 'C'],\n",
    "        'Values': [10, 20, 30, 40, 50 , None]}\n",
    "\n",
    "df = pd.DataFrame(data)\n",
    "df"
   ]
  },
  {
   "cell_type": "code",
   "execution_count": 7,
   "id": "b5d63efd",
   "metadata": {
    "execution": {
     "iopub.execute_input": "2024-11-23T23:45:22.844603Z",
     "iopub.status.busy": "2024-11-23T23:45:22.844218Z",
     "iopub.status.idle": "2024-11-23T23:45:22.867457Z",
     "shell.execute_reply": "2024-11-23T23:45:22.866258Z"
    },
    "papermill": {
     "duration": 0.029739,
     "end_time": "2024-11-23T23:45:22.869577",
     "exception": false,
     "start_time": "2024-11-23T23:45:22.839838",
     "status": "completed"
    },
    "tags": []
   },
   "outputs": [
    {
     "name": "stdout",
     "output_type": "stream",
     "text": [
      "Grouped Data Sum:\n",
      "          Values\n",
      "Category        \n",
      "A           40.0\n",
      "B           60.0\n",
      "C           50.0\n",
      "Grouped Data Mean:\n",
      "          Values\n",
      "Category        \n",
      "A           20.0\n",
      "B           30.0\n",
      "C           50.0\n",
      "Grouped Data Count:\n",
      "          Values\n",
      "Category        \n",
      "A              2\n",
      "B              2\n",
      "C              1\n",
      "Grouped Data Size:\n",
      "Category\n",
      "A    2\n",
      "B    2\n",
      "C    2\n",
      "dtype: int64\n"
     ]
    }
   ],
   "source": [
    "# Group by Category and sum Values\n",
    "df_group = df.groupby('Category')\n",
    "g_sum = df_group.sum()\n",
    "g_mean = df_group.mean()\n",
    "g_count = df_group.count()\n",
    "g_size= df_group.size()\n",
    "\n",
    "\n",
    "print(\"Grouped Data Sum:\")\n",
    "print(g_sum)\n",
    "print(\"Grouped Data Mean:\")\n",
    "print(g_mean)\n",
    "print(\"Grouped Data Count:\")\n",
    "print(g_count)\n",
    "print(\"Grouped Data Size:\")\n",
    "print(g_size)"
   ]
  },
  {
   "cell_type": "markdown",
   "id": "441153f6",
   "metadata": {
    "papermill": {
     "duration": 0.003049,
     "end_time": "2024-11-23T23:45:22.875982",
     "exception": false,
     "start_time": "2024-11-23T23:45:22.872933",
     "status": "completed"
    },
    "tags": []
   },
   "source": [
    "**Exception Handling**"
   ]
  },
  {
   "cell_type": "code",
   "execution_count": 8,
   "id": "ffe41f30",
   "metadata": {
    "execution": {
     "iopub.execute_input": "2024-11-23T23:45:22.885370Z",
     "iopub.status.busy": "2024-11-23T23:45:22.884626Z",
     "iopub.status.idle": "2024-11-23T23:45:22.890512Z",
     "shell.execute_reply": "2024-11-23T23:45:22.889559Z"
    },
    "papermill": {
     "duration": 0.013411,
     "end_time": "2024-11-23T23:45:22.892591",
     "exception": false,
     "start_time": "2024-11-23T23:45:22.879180",
     "status": "completed"
    },
    "tags": []
   },
   "outputs": [
    {
     "name": "stdout",
     "output_type": "stream",
     "text": [
      "There is an error: [Errno 2] No such file or directory: 'no_file'\n"
     ]
    }
   ],
   "source": [
    "#read a non-existing file and handle the Erroe \n",
    "try:\n",
    "    df = pd.read_csv('no_file')\n",
    "    print(\"file found\")\n",
    "except FileNotFoundError as e:\n",
    "    print(f'There is an error: {e}')"
   ]
  },
  {
   "cell_type": "code",
   "execution_count": null,
   "id": "980b447f",
   "metadata": {
    "papermill": {
     "duration": 0.003115,
     "end_time": "2024-11-23T23:45:22.899179",
     "exception": false,
     "start_time": "2024-11-23T23:45:22.896064",
     "status": "completed"
    },
    "tags": []
   },
   "outputs": [],
   "source": []
  }
 ],
 "metadata": {
  "kaggle": {
   "accelerator": "none",
   "dataSources": [],
   "dockerImageVersionId": 30786,
   "isGpuEnabled": false,
   "isInternetEnabled": true,
   "language": "python",
   "sourceType": "notebook"
  },
  "kernelspec": {
   "display_name": "Python 3",
   "language": "python",
   "name": "python3"
  },
  "language_info": {
   "codemirror_mode": {
    "name": "ipython",
    "version": 3
   },
   "file_extension": ".py",
   "mimetype": "text/x-python",
   "name": "python",
   "nbconvert_exporter": "python",
   "pygments_lexer": "ipython3",
   "version": "3.10.14"
  },
  "papermill": {
   "default_parameters": {},
   "duration": 4.003137,
   "end_time": "2024-11-23T23:45:23.322417",
   "environment_variables": {},
   "exception": null,
   "input_path": "__notebook__.ipynb",
   "output_path": "__notebook__.ipynb",
   "parameters": {},
   "start_time": "2024-11-23T23:45:19.319280",
   "version": "2.6.0"
  }
 },
 "nbformat": 4,
 "nbformat_minor": 5
}
