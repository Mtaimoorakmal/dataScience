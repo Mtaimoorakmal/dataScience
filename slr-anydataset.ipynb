{
 "cells": [
  {
   "cell_type": "code",
   "execution_count": null,
   "id": "b004e85e",
   "metadata": {
    "_cell_guid": "b1076dfc-b9ad-4769-8c92-a6c4dae69d19",
    "_uuid": "8f2839f25d086af736a60e9eeb907d3b93b6e0e5",
    "execution": {
     "iopub.execute_input": "2024-11-21T14:13:47.310606Z",
     "iopub.status.busy": "2024-11-21T14:13:47.310258Z",
     "iopub.status.idle": "2024-11-21T14:13:48.288760Z",
     "shell.execute_reply": "2024-11-21T14:13:48.287650Z",
     "shell.execute_reply.started": "2024-11-21T14:13:47.310570Z"
    },
    "papermill": {
     "duration": 0.003201,
     "end_time": "2024-11-21T17:10:45.873524",
     "exception": false,
     "start_time": "2024-11-21T17:10:45.870323",
     "status": "completed"
    },
    "tags": []
   },
   "outputs": [],
   "source": [
    "\n"
   ]
  },
  {
   "cell_type": "code",
   "execution_count": 1,
   "id": "effa37f1",
   "metadata": {
    "execution": {
     "iopub.execute_input": "2024-11-21T17:10:45.881237Z",
     "iopub.status.busy": "2024-11-21T17:10:45.880636Z",
     "iopub.status.idle": "2024-11-21T17:10:45.895871Z",
     "shell.execute_reply": "2024-11-21T17:10:45.894772Z"
    },
    "papermill": {
     "duration": 0.021862,
     "end_time": "2024-11-21T17:10:45.898178",
     "exception": false,
     "start_time": "2024-11-21T17:10:45.876316",
     "status": "completed"
    },
    "tags": []
   },
   "outputs": [],
   "source": [
    "import numpy as np\n",
    "class myLinearRegresssion:\n",
    "    def __init__(self , learning_rate = 0.1 , epochs = 1000):\n",
    "        self.learning_rate = learning_rate\n",
    "        self.epochs = epochs\n",
    "        self.weights = None\n",
    "\n",
    "    #method to calculate the mean Squar erroe (MSE)\n",
    "    def loss_MAE(self, y, y_pred):\n",
    "        return np.mean(np.abs(y - y_pred))\n",
    "        \n",
    "     #method to calculate the mean Absoult error (MAE)   \n",
    "    def loss_MSE(self, y, y_pred):\n",
    "        return np.mean((y - y_pred) ** 2)\n",
    "\n",
    "\n",
    "    def fit(self , x, y):\n",
    "        # Add a column of ones for the bias term\n",
    "        x_with_bias  = np.c_[np.ones((x.shape[0], 1)), x]\n",
    "        # print(\"x_with_bias shape:\", x_with_bias.shape)\n",
    "        # Initialize weights to zeros   \n",
    "        self.weights = np.zeros((x_with_bias.shape[1] ,1))\n",
    "\n",
    "        # print(\"weights shape:\", self.weights.shape)\n",
    "\n",
    "        m = len(y)\n",
    "#to test uncoment befor loop and comment the loos\n",
    "        # y_pred = np.dot(x_with_bias ,self.weights)\n",
    "        # print(\"y_pred shape before flate :\", y_pred.shape)  \n",
    "\n",
    "        # # Flatten y_pred to match y's shape\n",
    "        # y_pred = y_pred.ravel()\n",
    "        # print(\"y_pred shape after flate :\", y_pred.shape) \n",
    "        # # Calculate Gradient\n",
    "        # gradient = np.dot(x_with_bias.T, (y_pred - y)) / m \n",
    "        # gradient = gradient.reshape(-1, 1)  # Ensure gradient has shape (9, 1)\n",
    "        # print(\"gradient :\", gradient.shape)\n",
    "        # #update weuights\n",
    "        # self.weights -= self.learning_rate*gradient \n",
    "        for i in range(self.epochs):\n",
    "            #calculate predictions\n",
    "            y_pred = np.dot(x_with_bias ,self.weights)\n",
    "\n",
    "            # Flatten y_pred to match y's shape\n",
    "            y_pred = y_pred.ravel()\n",
    "            # Calculate Gradient\n",
    "            gradient = np.dot(x_with_bias.T, (y_pred - y)) / m \n",
    "            gradient = gradient.reshape(-1, 1) # Ensure gradient has shape (9, 1)\n",
    "            #update weuights\n",
    "            self.weights -= self.learning_rate*gradient \n",
    "\n",
    "        MSE = self.loss_MSE(y, y_pred)\n",
    "        MAE = self.loss_MAE(y, y_pred)\n",
    "\n",
    "        return f'{MSE=} , {MAE=} , {self.weights=}' \n",
    "    def predict(self ,x):\n",
    "        x_with_bias  = np.c_[np.ones((x.shape[0], 1)), x]\n",
    "        y_pred = np.dot(x_with_bias , self.weights)\n",
    "        return y_pred.ravel() \n"
   ]
  },
  {
   "cell_type": "code",
   "execution_count": 2,
   "id": "9c93961c",
   "metadata": {
    "execution": {
     "iopub.execute_input": "2024-11-21T17:10:45.905144Z",
     "iopub.status.busy": "2024-11-21T17:10:45.904755Z",
     "iopub.status.idle": "2024-11-21T17:10:50.288705Z",
     "shell.execute_reply": "2024-11-21T17:10:50.287293Z"
    },
    "papermill": {
     "duration": 4.390426,
     "end_time": "2024-11-21T17:10:50.291435",
     "exception": false,
     "start_time": "2024-11-21T17:10:45.901009",
     "status": "completed"
    },
    "tags": []
   },
   "outputs": [
    {
     "data": {
      "text/html": [
       "<div>\n",
       "<style scoped>\n",
       "    .dataframe tbody tr th:only-of-type {\n",
       "        vertical-align: middle;\n",
       "    }\n",
       "\n",
       "    .dataframe tbody tr th {\n",
       "        vertical-align: top;\n",
       "    }\n",
       "\n",
       "    .dataframe thead th {\n",
       "        text-align: right;\n",
       "    }\n",
       "</style>\n",
       "<table border=\"1\" class=\"dataframe\">\n",
       "  <thead>\n",
       "    <tr style=\"text-align: right;\">\n",
       "      <th></th>\n",
       "      <th>MedInc</th>\n",
       "      <th>HouseAge</th>\n",
       "      <th>AveRooms</th>\n",
       "      <th>AveBedrms</th>\n",
       "      <th>Population</th>\n",
       "      <th>AveOccup</th>\n",
       "      <th>Latitude</th>\n",
       "      <th>Longitude</th>\n",
       "      <th>Target</th>\n",
       "    </tr>\n",
       "  </thead>\n",
       "  <tbody>\n",
       "    <tr>\n",
       "      <th>0</th>\n",
       "      <td>8.3252</td>\n",
       "      <td>41.0</td>\n",
       "      <td>6.984127</td>\n",
       "      <td>1.023810</td>\n",
       "      <td>322.0</td>\n",
       "      <td>2.555556</td>\n",
       "      <td>37.88</td>\n",
       "      <td>-122.23</td>\n",
       "      <td>4.526</td>\n",
       "    </tr>\n",
       "    <tr>\n",
       "      <th>1</th>\n",
       "      <td>8.3014</td>\n",
       "      <td>21.0</td>\n",
       "      <td>6.238137</td>\n",
       "      <td>0.971880</td>\n",
       "      <td>2401.0</td>\n",
       "      <td>2.109842</td>\n",
       "      <td>37.86</td>\n",
       "      <td>-122.22</td>\n",
       "      <td>3.585</td>\n",
       "    </tr>\n",
       "    <tr>\n",
       "      <th>2</th>\n",
       "      <td>7.2574</td>\n",
       "      <td>52.0</td>\n",
       "      <td>8.288136</td>\n",
       "      <td>1.073446</td>\n",
       "      <td>496.0</td>\n",
       "      <td>2.802260</td>\n",
       "      <td>37.85</td>\n",
       "      <td>-122.24</td>\n",
       "      <td>3.521</td>\n",
       "    </tr>\n",
       "    <tr>\n",
       "      <th>3</th>\n",
       "      <td>5.6431</td>\n",
       "      <td>52.0</td>\n",
       "      <td>5.817352</td>\n",
       "      <td>1.073059</td>\n",
       "      <td>558.0</td>\n",
       "      <td>2.547945</td>\n",
       "      <td>37.85</td>\n",
       "      <td>-122.25</td>\n",
       "      <td>3.413</td>\n",
       "    </tr>\n",
       "    <tr>\n",
       "      <th>4</th>\n",
       "      <td>3.8462</td>\n",
       "      <td>52.0</td>\n",
       "      <td>6.281853</td>\n",
       "      <td>1.081081</td>\n",
       "      <td>565.0</td>\n",
       "      <td>2.181467</td>\n",
       "      <td>37.85</td>\n",
       "      <td>-122.25</td>\n",
       "      <td>3.422</td>\n",
       "    </tr>\n",
       "  </tbody>\n",
       "</table>\n",
       "</div>"
      ],
      "text/plain": [
       "   MedInc  HouseAge  AveRooms  AveBedrms  Population  AveOccup  Latitude  \\\n",
       "0  8.3252      41.0  6.984127   1.023810       322.0  2.555556     37.88   \n",
       "1  8.3014      21.0  6.238137   0.971880      2401.0  2.109842     37.86   \n",
       "2  7.2574      52.0  8.288136   1.073446       496.0  2.802260     37.85   \n",
       "3  5.6431      52.0  5.817352   1.073059       558.0  2.547945     37.85   \n",
       "4  3.8462      52.0  6.281853   1.081081       565.0  2.181467     37.85   \n",
       "\n",
       "   Longitude  Target  \n",
       "0    -122.23   4.526  \n",
       "1    -122.22   3.585  \n",
       "2    -122.24   3.521  \n",
       "3    -122.25   3.413  \n",
       "4    -122.25   3.422  "
      ]
     },
     "execution_count": 2,
     "metadata": {},
     "output_type": "execute_result"
    }
   ],
   "source": [
    "from sklearn.datasets import fetch_california_housing\n",
    "from sklearn.model_selection import train_test_split\n",
    "import pandas as pd\n",
    "X, y = fetch_california_housing(return_X_y=True , as_frame=True)\n",
    "X.shape , y.shape\n",
    "df1=X.copy()\n",
    "df1['Target'] = y\n",
    "df1.head()\n"
   ]
  },
  {
   "cell_type": "code",
   "execution_count": 3,
   "id": "b111d837",
   "metadata": {
    "execution": {
     "iopub.execute_input": "2024-11-21T17:10:50.299125Z",
     "iopub.status.busy": "2024-11-21T17:10:50.298506Z",
     "iopub.status.idle": "2024-11-21T17:10:50.317862Z",
     "shell.execute_reply": "2024-11-21T17:10:50.316546Z"
    },
    "papermill": {
     "duration": 0.02603,
     "end_time": "2024-11-21T17:10:50.320370",
     "exception": false,
     "start_time": "2024-11-21T17:10:50.294340",
     "status": "completed"
    },
    "tags": []
   },
   "outputs": [
    {
     "data": {
      "text/plain": [
       "((16512, 8), (4128, 8), (16512,), (4128,))"
      ]
     },
     "execution_count": 3,
     "metadata": {},
     "output_type": "execute_result"
    }
   ],
   "source": [
    "X_train, X_test, y_train, y_test = train_test_split(X, y, test_size=0.2, random_state=42)\n",
    "\n",
    "X_train.shape, X_test.shape, y_train.shape, y_test.shape"
   ]
  },
  {
   "cell_type": "code",
   "execution_count": 4,
   "id": "7893684d",
   "metadata": {
    "execution": {
     "iopub.execute_input": "2024-11-21T17:10:50.328071Z",
     "iopub.status.busy": "2024-11-21T17:10:50.327585Z",
     "iopub.status.idle": "2024-11-21T17:10:50.350649Z",
     "shell.execute_reply": "2024-11-21T17:10:50.348657Z"
    },
    "papermill": {
     "duration": 0.031799,
     "end_time": "2024-11-21T17:10:50.355164",
     "exception": false,
     "start_time": "2024-11-21T17:10:50.323365",
     "status": "completed"
    },
    "tags": []
   },
   "outputs": [
    {
     "data": {
      "text/plain": [
       "'MSE=4.9170691124311016e+54 , MAE=1.7373176985158662e+27 , self.weights=array([[ 1.73726564e+25],\\n       [ 6.75269012e+25],\\n       [ 4.46267895e+26],\\n       [ 9.19986309e+25],\\n       [ 1.86268643e+25],\\n       [ 4.04486090e+28],\\n       [ 6.53455425e+25],\\n       [ 6.16201741e+26],\\n       [-2.07486013e+27]])'"
      ]
     },
     "execution_count": 4,
     "metadata": {},
     "output_type": "execute_result"
    }
   ],
   "source": [
    "model = myLinearRegresssion(0.01 , 7)\n",
    "\n",
    "model.fit(X_train , y_train)\n"
   ]
  },
  {
   "cell_type": "code",
   "execution_count": 5,
   "id": "86069f0a",
   "metadata": {
    "execution": {
     "iopub.execute_input": "2024-11-21T17:10:50.375548Z",
     "iopub.status.busy": "2024-11-21T17:10:50.374894Z",
     "iopub.status.idle": "2024-11-21T17:10:50.389337Z",
     "shell.execute_reply": "2024-11-21T17:10:50.387179Z"
    },
    "papermill": {
     "duration": 0.02982,
     "end_time": "2024-11-21T17:10:50.392702",
     "exception": false,
     "start_time": "2024-11-21T17:10:50.362882",
     "status": "completed"
    },
    "tags": []
   },
   "outputs": [
    {
     "data": {
      "text/plain": [
       "(5.368784315233381e+63, 5.778433665451511e+31)"
      ]
     },
     "execution_count": 5,
     "metadata": {},
     "output_type": "execute_result"
    }
   ],
   "source": [
    "y_pred1 = model.predict(X_test)\n",
    "# y_pred1.shape ,y_test.shape\n",
    "MSE = model.loss_MSE(y_test, y_pred1)\n",
    "MAE = model.loss_MAE(y_test, y_pred1)\n",
    "MSE , MAE"
   ]
  },
  {
   "cell_type": "code",
   "execution_count": null,
   "id": "7181de5a",
   "metadata": {
    "papermill": {
     "duration": 0.007315,
     "end_time": "2024-11-21T17:10:50.407712",
     "exception": false,
     "start_time": "2024-11-21T17:10:50.400397",
     "status": "completed"
    },
    "tags": []
   },
   "outputs": [],
   "source": []
  },
  {
   "cell_type": "code",
   "execution_count": null,
   "id": "43569a5b",
   "metadata": {
    "papermill": {
     "duration": 0.007214,
     "end_time": "2024-11-21T17:10:50.422733",
     "exception": false,
     "start_time": "2024-11-21T17:10:50.415519",
     "status": "completed"
    },
    "tags": []
   },
   "outputs": [],
   "source": []
  }
 ],
 "metadata": {
  "kaggle": {
   "accelerator": "none",
   "dataSources": [],
   "dockerImageVersionId": 30786,
   "isGpuEnabled": false,
   "isInternetEnabled": true,
   "language": "python",
   "sourceType": "notebook"
  },
  "kernelspec": {
   "display_name": "Python 3",
   "language": "python",
   "name": "python3"
  },
  "language_info": {
   "codemirror_mode": {
    "name": "ipython",
    "version": 3
   },
   "file_extension": ".py",
   "mimetype": "text/x-python",
   "name": "python",
   "nbconvert_exporter": "python",
   "pygments_lexer": "ipython3",
   "version": "3.10.14"
  },
  "papermill": {
   "default_parameters": {},
   "duration": 7.974204,
   "end_time": "2024-11-21T17:10:51.055857",
   "environment_variables": {},
   "exception": null,
   "input_path": "__notebook__.ipynb",
   "output_path": "__notebook__.ipynb",
   "parameters": {},
   "start_time": "2024-11-21T17:10:43.081653",
   "version": "2.6.0"
  }
 },
 "nbformat": 4,
 "nbformat_minor": 5
}
