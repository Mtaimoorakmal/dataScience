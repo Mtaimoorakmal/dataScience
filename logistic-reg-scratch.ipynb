{
 "cells": [
  {
   "cell_type": "code",
   "execution_count": 1,
   "id": "a7c0ba7c",
   "metadata": {
    "execution": {
     "iopub.execute_input": "2024-11-20T21:14:52.298033Z",
     "iopub.status.busy": "2024-11-20T21:14:52.297594Z",
     "iopub.status.idle": "2024-11-20T21:14:52.316753Z",
     "shell.execute_reply": "2024-11-20T21:14:52.315113Z"
    },
    "papermill": {
     "duration": 0.027684,
     "end_time": "2024-11-20T21:14:52.319840",
     "exception": false,
     "start_time": "2024-11-20T21:14:52.292156",
     "status": "completed"
    },
    "tags": []
   },
   "outputs": [],
   "source": [
    "import numpy as np\n",
    "\n",
    "def sigmoid(z):\n",
    "    return 1/(1+np.exp(-z))\n",
    "\n",
    "class LogisticRegression:\n",
    "    def __init__(self , alpha = 0.01 , epochs  =1000):\n",
    "        self.alpha = alpha\n",
    "        self.epochs  = epochs\n",
    "        self.weights = None\n",
    "        self.bias = None\n",
    "\n",
    "    def sigmoid(self , z):\n",
    "        z = np.clip(z, -500, 500)  # Clip values to avoid overflow\n",
    "        return 1/(1+np.exp(-z))\n",
    "\n",
    "    #method to calculate the Loss\n",
    "    def loss(self, y, yhat):\n",
    "        return (-y * np.log(yhat) - (1 - y) * np.log(1 - yhat)).mean()\n",
    "\n",
    "\n",
    "    def fit(self , X , y):\n",
    "        m , n = X.shape # m =number of examples , n =number of features\n",
    "        \n",
    "        # Initialize weights and bias to zero\n",
    "        self.weights = np.zeros(n) \n",
    "        self.bias = 0\n",
    "\n",
    "        # loss & Gradient Descent \n",
    "        for i in range(self.epochs):\n",
    "             # FORWARD PROPAGATION (FROM X TO COST)\n",
    "            z = np.dot(X , self.weights) + self.bias        #linear equation #tag 1\n",
    "            yhat = self.sigmoid(z)            # Apply sigmoid to get probability predictions #tag 2\n",
    "            \n",
    "            epsilon = 1e-15  # Small value to avoid log(0)\n",
    "            yhat = np.clip(yhat, epsilon, 1 - epsilon)\n",
    "            loss = (-y * np.log(yhat) - (1 - y) * np.log(1 - yhat)).mean() # compute Loss tag 3\n",
    "\n",
    "            # BACKWARD PROPAGATION (TO FIND GRAD)\n",
    "            \n",
    "            dw= 1/m*(np.dot(X.T , (yhat-y))) # Compute the gradients for w and b  #tag 4\n",
    "            db = 1/m* (np.sum(yhat-y))                                           #tag 5\n",
    "\n",
    "            # Update the weights and bias using the gradients\n",
    "            self.weights -= self.alpha*dw\n",
    "            self.bias -= self.alpha*db\n",
    "            if i  == 10:\n",
    "                    print(f\"Epoch {i}, Loss: {loss}, w: {self.weights}, b: {self.bias }\")\n",
    "        print(f\"End Loss: {loss}, w: {self.weights}, b: {self.bias }\")\n",
    "\n",
    "    def predict(self , X):\n",
    "        z = np.dot(X , self.weights)+self.bias\n",
    "        yhat = self.sigmoid(z)\n",
    "\n",
    "        return [1 if i>-0.5 else 0 for i in yhat]\n",
    "        \n",
    "\n",
    "    def cofient_and_bias(self):\n",
    "        w = self.weights\n",
    "        b = self.bias\n",
    "        return f'{w=} \\n {b=}'\n",
    "    "
   ]
  },
  {
   "cell_type": "code",
   "execution_count": 2,
   "id": "1ceeac19",
   "metadata": {
    "execution": {
     "iopub.execute_input": "2024-11-20T21:14:52.327476Z",
     "iopub.status.busy": "2024-11-20T21:14:52.327057Z",
     "iopub.status.idle": "2024-11-20T21:15:40.020037Z",
     "shell.execute_reply": "2024-11-20T21:15:40.018742Z"
    },
    "papermill": {
     "duration": 47.702255,
     "end_time": "2024-11-20T21:15:40.025123",
     "exception": false,
     "start_time": "2024-11-20T21:14:52.322868",
     "status": "completed"
    },
    "tags": []
   },
   "outputs": [
    {
     "name": "stdout",
     "output_type": "stream",
     "text": [
      "Epoch 10, Loss: 0.6426298470350751, w: [0.01507497 0.01507497], b: -0.2442641487334405\n",
      "End Loss: 0.00017022583801401935, w: [16.69501321 16.69501321], b: -25.210797184893504\n",
      "The predictions are :[1, 1, 1, 1]\n",
      "accuracy -> 0.25 \n",
      " \n",
      " w=array([16.69501321, 16.69501321]) \n",
      " b=-25.210797184893504\n"
     ]
    }
   ],
   "source": [
    "# Example dataset: X = features, y = labels\n",
    "X = np.array([[0, 0], [1, 0], [0, 1], [1, 1]])  # Input data (4 samples, 2 features)\n",
    "y = np.array([0, 0, 0, 1])  # Labels (binary)\n",
    "\n",
    "# Initialize and train the model\n",
    "model = LogisticRegression(0.1,1000000)\n",
    "model.fit(X, y)\n",
    "\n",
    "# Make predictions\n",
    "predictions = model.predict(X)\n",
    "\n",
    "print(f'The predictions are :{predictions}')  # Output: [0, 0, 0, 1]\n",
    "\n",
    "w = model.cofient_and_bias()\n",
    "\n",
    "print('accuracy -> {} \\n \\n'.format(sum(predictions == y) / y.shape[0]),w)\n"
   ]
  },
  {
   "cell_type": "code",
   "execution_count": 3,
   "id": "c3a043ca",
   "metadata": {
    "execution": {
     "iopub.execute_input": "2024-11-20T21:15:40.033078Z",
     "iopub.status.busy": "2024-11-20T21:15:40.032507Z",
     "iopub.status.idle": "2024-11-20T21:15:43.087408Z",
     "shell.execute_reply": "2024-11-20T21:15:43.086183Z"
    },
    "papermill": {
     "duration": 3.061817,
     "end_time": "2024-11-20T21:15:43.090059",
     "exception": false,
     "start_time": "2024-11-20T21:15:40.028242",
     "status": "completed"
    },
    "tags": []
   },
   "outputs": [
    {
     "name": "stdout",
     "output_type": "stream",
     "text": [
      "x_train shape: (398, 30)\n",
      "x_test shape: (171, 30)\n",
      "y_train shape: (398,)\n",
      "y_test shape: (171,)\n"
     ]
    }
   ],
   "source": [
    "from sklearn.datasets import load_breast_cancer\n",
    "from sklearn.model_selection import train_test_split\n",
    "import pandas as pd\n",
    "#Loading the data\n",
    "data = load_breast_cancer()\n",
    " \n",
    "#Preparing the data\n",
    "x = data.data\n",
    "y = data.target\n",
    "#making Datafram with features and target\n",
    "df = pd.DataFrame(x , columns = data.feature_names)\n",
    "df['target'] = y\n",
    "# Splitting the data into 70% training and 30% testing\n",
    "x_train, x_test, y_train, y_test = train_test_split(x, y, test_size=0.3, random_state=42)\n",
    "\n",
    "# Display the shape of the splits\n",
    "print(f\"x_train shape: {x_train.shape}\")\n",
    "print(f\"x_test shape: {x_test.shape}\")\n",
    "print(f\"y_train shape: {y_train.shape}\")\n",
    "print(f\"y_test shape: {y_test.shape}\")"
   ]
  },
  {
   "cell_type": "code",
   "execution_count": 4,
   "id": "138e60a5",
   "metadata": {
    "execution": {
     "iopub.execute_input": "2024-11-20T21:15:43.097222Z",
     "iopub.status.busy": "2024-11-20T21:15:43.096704Z",
     "iopub.status.idle": "2024-11-20T21:16:08.681660Z",
     "shell.execute_reply": "2024-11-20T21:16:08.680595Z"
    },
    "papermill": {
     "duration": 25.599233,
     "end_time": "2024-11-20T21:16:08.692058",
     "exception": false,
     "start_time": "2024-11-20T21:15:43.092825",
     "status": "completed"
    },
    "tags": []
   },
   "outputs": [
    {
     "name": "stdout",
     "output_type": "stream",
     "text": [
      "Epoch 10, Loss: 21.608430458122516, w: [ 4.24768116e+00  7.47784673e+00  2.63457688e+01  6.41146231e+01\n",
      "  4.12590879e-02  1.88229121e-02 -1.35287294e-02 -7.18617136e-03\n",
      "  7.72204271e-02  3.04936985e-02  3.38903266e-02  5.67450075e-01\n",
      "  2.43387412e-01 -5.85455251e+00  3.54145126e-03  7.08152412e-03\n",
      "  7.64375143e-03  3.17854020e-03  9.48299472e-03  1.65381606e-03\n",
      "  4.12226281e+00  9.49226884e+00  2.57086508e+01  9.15427136e+00\n",
      "  5.40595101e-02  3.05636508e-02 -7.78611131e-03  2.61369422e-03\n",
      "  1.11186407e-01  3.50607613e-02], b: 0.48341708542713796\n",
      "End Loss: 2.603457501020613, w: [ 6.87257802e+02  4.13301041e+01  1.60113641e+03 -3.35478657e+01\n",
      " -1.16688045e+01 -7.76756489e+01 -1.10599512e+02 -4.43155274e+01\n",
      " -1.93074414e+01 -3.78084156e+00  1.69759869e+01  1.32588855e+02\n",
      " -1.80392761e+02 -2.65888020e+02 -1.58723113e+00 -1.96614560e+01\n",
      " -2.59435970e+01 -6.05673530e+00 -5.09651468e+00 -1.75705348e+00\n",
      "  7.05570014e+02 -8.53599141e+02 -3.39710382e+02 -1.00990231e+02\n",
      " -2.57637139e+01 -2.55144858e+02 -3.13934024e+02 -8.57852374e+01\n",
      " -7.01796997e+01 -2.15547325e+01], b: 94.84291719501502\n"
     ]
    }
   ],
   "source": [
    "#creating the class Object\n",
    "regressor = LogisticRegression(0.2,100000)\n",
    "#\n",
    "regressor.fit(x_train , y_train)"
   ]
  },
  {
   "cell_type": "code",
   "execution_count": 5,
   "id": "322c36f2",
   "metadata": {
    "execution": {
     "iopub.execute_input": "2024-11-20T21:16:08.729042Z",
     "iopub.status.busy": "2024-11-20T21:16:08.726363Z",
     "iopub.status.idle": "2024-11-20T21:16:08.744177Z",
     "shell.execute_reply": "2024-11-20T21:16:08.741974Z"
    },
    "papermill": {
     "duration": 0.049405,
     "end_time": "2024-11-20T21:16:08.755328",
     "exception": false,
     "start_time": "2024-11-20T21:16:08.705923",
     "status": "completed"
    },
    "tags": []
   },
   "outputs": [
    {
     "name": "stdout",
     "output_type": "stream",
     "text": [
      "accuracy -> 0.631578947368421 \n",
      " \n",
      " w=array([ 6.87257802e+02,  4.13301041e+01,  1.60113641e+03, -3.35478657e+01,\n",
      "       -1.16688045e+01, -7.76756489e+01, -1.10599512e+02, -4.43155274e+01,\n",
      "       -1.93074414e+01, -3.78084156e+00,  1.69759869e+01,  1.32588855e+02,\n",
      "       -1.80392761e+02, -2.65888020e+02, -1.58723113e+00, -1.96614560e+01,\n",
      "       -2.59435970e+01, -6.05673530e+00, -5.09651468e+00, -1.75705348e+00,\n",
      "        7.05570014e+02, -8.53599141e+02, -3.39710382e+02, -1.00990231e+02,\n",
      "       -2.57637139e+01, -2.55144858e+02, -3.13934024e+02, -8.57852374e+01,\n",
      "       -7.01796997e+01, -2.15547325e+01]) \n",
      " b=94.84291719501502\n"
     ]
    }
   ],
   "source": [
    "y_pred = regressor.predict(x_test)\n",
    "\n",
    "w = regressor.cofient_and_bias()\n",
    "\n",
    "print('accuracy -> {} \\n \\n'.format(sum(y_pred == y_test) / y_test.shape[0]),w)"
   ]
  },
  {
   "cell_type": "code",
   "execution_count": null,
   "id": "78009091",
   "metadata": {
    "papermill": {
     "duration": 0.013835,
     "end_time": "2024-11-20T21:16:08.785523",
     "exception": false,
     "start_time": "2024-11-20T21:16:08.771688",
     "status": "completed"
    },
    "tags": []
   },
   "outputs": [],
   "source": []
  },
  {
   "cell_type": "code",
   "execution_count": null,
   "id": "438f2cf9",
   "metadata": {
    "papermill": {
     "duration": 0.002737,
     "end_time": "2024-11-20T21:16:08.802474",
     "exception": false,
     "start_time": "2024-11-20T21:16:08.799737",
     "status": "completed"
    },
    "tags": []
   },
   "outputs": [],
   "source": []
  }
 ],
 "metadata": {
  "kaggle": {
   "accelerator": "none",
   "dataSources": [],
   "dockerImageVersionId": 30786,
   "isGpuEnabled": false,
   "isInternetEnabled": true,
   "language": "python",
   "sourceType": "notebook"
  },
  "kernelspec": {
   "display_name": "Python 3",
   "language": "python",
   "name": "python3"
  },
  "language_info": {
   "codemirror_mode": {
    "name": "ipython",
    "version": 3
   },
   "file_extension": ".py",
   "mimetype": "text/x-python",
   "name": "python",
   "nbconvert_exporter": "python",
   "pygments_lexer": "ipython3",
   "version": "3.10.14"
  },
  "papermill": {
   "default_parameters": {},
   "duration": 80.382855,
   "end_time": "2024-11-20T21:16:09.528290",
   "environment_variables": {},
   "exception": null,
   "input_path": "__notebook__.ipynb",
   "output_path": "__notebook__.ipynb",
   "parameters": {},
   "start_time": "2024-11-20T21:14:49.145435",
   "version": "2.6.0"
  }
 },
 "nbformat": 4,
 "nbformat_minor": 5
}
