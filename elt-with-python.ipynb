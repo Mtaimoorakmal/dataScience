{
 "cells": [
  {
   "cell_type": "code",
   "execution_count": 1,
   "id": "3e710df4",
   "metadata": {
    "execution": {
     "iopub.execute_input": "2024-11-25T13:07:51.256791Z",
     "iopub.status.busy": "2024-11-25T13:07:51.256383Z",
     "iopub.status.idle": "2024-11-25T13:07:52.385253Z",
     "shell.execute_reply": "2024-11-25T13:07:52.384186Z"
    },
    "papermill": {
     "duration": 1.13565,
     "end_time": "2024-11-25T13:07:52.387839",
     "exception": false,
     "start_time": "2024-11-25T13:07:51.252189",
     "status": "completed"
    },
    "tags": []
   },
   "outputs": [],
   "source": [
    "import requests\n",
    "import pandas as pd\n",
    "import os\n",
    "from datetime import datetime"
   ]
  },
  {
   "cell_type": "code",
   "execution_count": 2,
   "id": "2026fc76",
   "metadata": {
    "execution": {
     "iopub.execute_input": "2024-11-25T13:07:52.394620Z",
     "iopub.status.busy": "2024-11-25T13:07:52.394042Z",
     "iopub.status.idle": "2024-11-25T13:07:52.484135Z",
     "shell.execute_reply": "2024-11-25T13:07:52.482836Z"
    },
    "papermill": {
     "duration": 0.096784,
     "end_time": "2024-11-25T13:07:52.487191",
     "exception": false,
     "start_time": "2024-11-25T13:07:52.390407",
     "status": "completed"
    },
    "tags": []
   },
   "outputs": [
    {
     "name": "stdout",
     "output_type": "stream",
     "text": [
      "Workflow completed. Data saved to crypto_prices.csv.\n"
     ]
    }
   ],
   "source": [
    "# Step 1: Extract data\n",
    "def extract_data():\n",
    "    url = \"https://api.coingecko.com/api/v3/simple/price?ids=bitcoin,ethereum&vs_currencies=usd\"\n",
    "    response = requests.get(url)\n",
    "    data = response.json()\n",
    "    return data\n",
    "\n",
    "# Step 2: Transform data\n",
    "def transform_data(data):\n",
    "    records = []\n",
    "    for symbol, info in data.items():\n",
    "        records.append({\n",
    "            \"timestamp\": datetime.now(),\n",
    "            \"symbol\": symbol,\n",
    "            \"price_usd\": info[\"usd\"]\n",
    "        })\n",
    "    return pd.DataFrame(records)\n",
    "\n",
    "# Step 3: Save data to a CSV\n",
    "def save_data(df):\n",
    "    output_path = \"/kaggle/working/crypto_prices.csv\"\n",
    "    if os.path.exists(output_path):\n",
    "        existing_df = pd.read_csv(output_path)\n",
    "        df = pd.concat([existing_df, df])\n",
    "    df.to_csv(output_path, index=False)\n",
    "\n",
    "# Run the workflow\n",
    "data = extract_data()\n",
    "transformed_data = transform_data(data)\n",
    "save_data(transformed_data)\n",
    "print(\"Workflow completed. Data saved to crypto_prices.csv.\")\n"
   ]
  },
  {
   "cell_type": "code",
   "execution_count": 3,
   "id": "8add8b89",
   "metadata": {
    "execution": {
     "iopub.execute_input": "2024-11-25T13:07:52.493952Z",
     "iopub.status.busy": "2024-11-25T13:07:52.493544Z",
     "iopub.status.idle": "2024-11-25T13:07:52.517119Z",
     "shell.execute_reply": "2024-11-25T13:07:52.515579Z"
    },
    "papermill": {
     "duration": 0.02984,
     "end_time": "2024-11-25T13:07:52.519708",
     "exception": false,
     "start_time": "2024-11-25T13:07:52.489868",
     "status": "completed"
    },
    "tags": []
   },
   "outputs": [
    {
     "name": "stdout",
     "output_type": "stream",
     "text": [
      "                    timestamp    symbol  price_usd\n",
      "0  2024-11-25 13:07:52.466944   bitcoin   97977.00\n",
      "1  2024-11-25 13:07:52.466949  ethereum    3489.23\n"
     ]
    }
   ],
   "source": [
    "# Load and display the CSV file\n",
    "data_path = \"crypto_prices.csv\"  # Update path if needed\n",
    "try:\n",
    "    df = pd.read_csv(data_path)\n",
    "    print(df)\n",
    "except FileNotFoundError:\n",
    "    print(\"File not found. Ensure the Process} has run successfully and the file exists.\")\n"
   ]
  },
  {
   "cell_type": "code",
   "execution_count": 4,
   "id": "515a485e",
   "metadata": {
    "execution": {
     "iopub.execute_input": "2024-11-25T13:07:52.525812Z",
     "iopub.status.busy": "2024-11-25T13:07:52.525441Z",
     "iopub.status.idle": "2024-11-25T13:07:52.539640Z",
     "shell.execute_reply": "2024-11-25T13:07:52.538441Z"
    },
    "papermill": {
     "duration": 0.019869,
     "end_time": "2024-11-25T13:07:52.541967",
     "exception": false,
     "start_time": "2024-11-25T13:07:52.522098",
     "status": "completed"
    },
    "tags": []
   },
   "outputs": [
    {
     "data": {
      "text/html": [
       "<div>\n",
       "<style scoped>\n",
       "    .dataframe tbody tr th:only-of-type {\n",
       "        vertical-align: middle;\n",
       "    }\n",
       "\n",
       "    .dataframe tbody tr th {\n",
       "        vertical-align: top;\n",
       "    }\n",
       "\n",
       "    .dataframe thead th {\n",
       "        text-align: right;\n",
       "    }\n",
       "</style>\n",
       "<table border=\"1\" class=\"dataframe\">\n",
       "  <thead>\n",
       "    <tr style=\"text-align: right;\">\n",
       "      <th></th>\n",
       "      <th>timestamp</th>\n",
       "      <th>symbol</th>\n",
       "      <th>price_usd</th>\n",
       "    </tr>\n",
       "  </thead>\n",
       "  <tbody>\n",
       "    <tr>\n",
       "      <th>0</th>\n",
       "      <td>2024-11-25 13:07:52.466944</td>\n",
       "      <td>bitcoin</td>\n",
       "      <td>97977.00</td>\n",
       "    </tr>\n",
       "    <tr>\n",
       "      <th>1</th>\n",
       "      <td>2024-11-25 13:07:52.466949</td>\n",
       "      <td>ethereum</td>\n",
       "      <td>3489.23</td>\n",
       "    </tr>\n",
       "  </tbody>\n",
       "</table>\n",
       "</div>"
      ],
      "text/plain": [
       "                    timestamp    symbol  price_usd\n",
       "0  2024-11-25 13:07:52.466944   bitcoin   97977.00\n",
       "1  2024-11-25 13:07:52.466949  ethereum    3489.23"
      ]
     },
     "execution_count": 4,
     "metadata": {},
     "output_type": "execute_result"
    }
   ],
   "source": [
    "df"
   ]
  },
  {
   "cell_type": "code",
   "execution_count": null,
   "id": "3743283d",
   "metadata": {
    "papermill": {
     "duration": 0.002132,
     "end_time": "2024-11-25T13:07:52.546530",
     "exception": false,
     "start_time": "2024-11-25T13:07:52.544398",
     "status": "completed"
    },
    "tags": []
   },
   "outputs": [],
   "source": []
  }
 ],
 "metadata": {
  "kaggle": {
   "accelerator": "none",
   "dataSources": [],
   "dockerImageVersionId": 30786,
   "isGpuEnabled": false,
   "isInternetEnabled": true,
   "language": "python",
   "sourceType": "notebook"
  },
  "kernelspec": {
   "display_name": "Python 3",
   "language": "python",
   "name": "python3"
  },
  "language_info": {
   "codemirror_mode": {
    "name": "ipython",
    "version": 3
   },
   "file_extension": ".py",
   "mimetype": "text/x-python",
   "name": "python",
   "nbconvert_exporter": "python",
   "pygments_lexer": "ipython3",
   "version": "3.10.14"
  },
  "papermill": {
   "default_parameters": {},
   "duration": 4.782883,
   "end_time": "2024-11-25T13:07:53.070146",
   "environment_variables": {},
   "exception": null,
   "input_path": "__notebook__.ipynb",
   "output_path": "__notebook__.ipynb",
   "parameters": {},
   "start_time": "2024-11-25T13:07:48.287263",
   "version": "2.6.0"
  }
 },
 "nbformat": 4,
 "nbformat_minor": 5
}
