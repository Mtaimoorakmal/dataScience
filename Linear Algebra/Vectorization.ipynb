{
 "cells": [
  {
   "cell_type": "markdown",
   "metadata": {},
   "source": [
    "**Verterorizatuion in Python**"
   ]
  },
  {
   "cell_type": "code",
   "execution_count": 75,
   "metadata": {},
   "outputs": [],
   "source": [
    "import numpy as np\n",
    "import time\n",
    "x , w = np.random.rand(100000) , np.random.rand(100000)"
   ]
  },
  {
   "cell_type": "code",
   "execution_count": 76,
   "metadata": {},
   "outputs": [],
   "source": [
    "def forloop(x , w):\n",
    "    z = 0\n",
    "    for i in range(len(x)):\n",
    "        z += x[i] *w[i]\n",
    "    return z\n"
   ]
  },
  {
   "cell_type": "code",
   "execution_count": 77,
   "metadata": {},
   "outputs": [],
   "source": [
    "def listcomprehension(x , w):\n",
    "    return (x_i*w_i for x_i , w_i in zip(x , w))"
   ]
  },
  {
   "cell_type": "code",
   "execution_count": 78,
   "metadata": {},
   "outputs": [],
   "source": [
    "def vectorized(x ,w):\n",
    "    return x.dot(w)"
   ]
  },
  {
   "cell_type": "code",
   "execution_count": 79,
   "metadata": {},
   "outputs": [],
   "source": [
    "# %timeit -r 1000 -n 10 forloop(x , w)"
   ]
  },
  {
   "cell_type": "code",
   "execution_count": 80,
   "metadata": {},
   "outputs": [
    {
     "name": "stdout",
     "output_type": "stream",
     "text": [
      "The slowest run took 39.95 times longer than the fastest. This could mean that an intermediate result is being cached.\n",
      "1.1 μs ± 1.05 μs per loop (mean ± std. dev. of 1000 runs, 10 loops each)\n"
     ]
    }
   ],
   "source": [
    "%timeit -r 1000 -n 10 listcomprehension(x , w)"
   ]
  },
  {
   "cell_type": "code",
   "execution_count": 81,
   "metadata": {},
   "outputs": [
    {
     "name": "stdout",
     "output_type": "stream",
     "text": [
      "The slowest run took 13.57 times longer than the fastest. This could mean that an intermediate result is being cached.\n",
      "106 μs ± 60.9 μs per loop (mean ± std. dev. of 1000 runs, 10 loops each)\n"
     ]
    }
   ],
   "source": [
    "%timeit -r 1000 -n 10 vectorized(x , w)"
   ]
  },
  {
   "cell_type": "code",
   "execution_count": 82,
   "metadata": {},
   "outputs": [
    {
     "name": "stdout",
     "output_type": "stream",
     "text": [
      "forloop execution time:  0.10200095176696777\n",
      "list comprehension execution time:  0.07499861717224121\n",
      "vector execution time:  0.0010001659393310547\n"
     ]
    }
   ],
   "source": [
    "\n",
    "\n",
    "# forloop time\n",
    "start_time = time.time()\n",
    "z =forloop(x,w)\n",
    "end_time = time.time()\n",
    "print(\"forloop execution time: \",end_time-start_time)\n",
    "\n",
    "#listcomprehension time\n",
    "start_time = time.time()\n",
    "y =listcomprehension(x,w)\n",
    "end_time = time.time()\n",
    "print(\"list comprehension execution time: \",end_time-start_time)\n",
    "\n",
    "#vectorized time\n",
    "start_time = time.time()\n",
    "x = vectorized(x,w)\n",
    "end_time = time.time()\n",
    "print(\"vector execution time: \",end_time-start_time)\n",
    "\n",
    "# print(f'{z=} \\n{y=} \\n{x=} ')"
   ]
  },
  {
   "cell_type": "code",
   "execution_count": null,
   "metadata": {},
   "outputs": [],
   "source": []
  }
 ],
 "metadata": {
  "kernelspec": {
   "display_name": "Python 3",
   "language": "python",
   "name": "python3"
  },
  "language_info": {
   "codemirror_mode": {
    "name": "ipython",
    "version": 3
   },
   "file_extension": ".py",
   "mimetype": "text/x-python",
   "name": "python",
   "nbconvert_exporter": "python",
   "pygments_lexer": "ipython3",
   "version": "3.12.6"
  }
 },
 "nbformat": 4,
 "nbformat_minor": 2
}
