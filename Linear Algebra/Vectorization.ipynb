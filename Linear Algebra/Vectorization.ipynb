{
 "cells": [
  {
   "cell_type": "markdown",
   "metadata": {},
   "source": [
    "**Verterorizatuion in Python**"
   ]
  },
  {
   "cell_type": "code",
   "execution_count": 17,
   "metadata": {},
   "outputs": [],
   "source": [
    "def forloop(x , w):\n",
    "    z = 0\n",
    "    for i in range(len(x)):\n",
    "        z += x[i] *w[i]\n",
    "    return z\n"
   ]
  },
  {
   "cell_type": "code",
   "execution_count": 18,
   "metadata": {},
   "outputs": [],
   "source": [
    "def listcomprehension(x , w):\n",
    "    return (x_i*w_i for x_i , w_i in zip(x , w))"
   ]
  },
  {
   "cell_type": "code",
   "execution_count": 19,
   "metadata": {},
   "outputs": [],
   "source": [
    "\n",
    "\n",
    "def vectorized(x ,w):\n",
    "    return x.dot(w)\n",
    "\n"
   ]
  },
  {
   "cell_type": "code",
   "execution_count": 20,
   "metadata": {},
   "outputs": [],
   "source": [
    "import numpy as np\n",
    "x , w = np.random.rand(100000) , np.random.rand(100000)"
   ]
  },
  {
   "cell_type": "code",
   "execution_count": 21,
   "metadata": {},
   "outputs": [
    {
     "name": "stdout",
     "output_type": "stream",
     "text": [
      "41.2 ms ± 6.29 ms per loop (mean ± std. dev. of 1000 runs, 10 loops each)\n"
     ]
    }
   ],
   "source": [
    "%timeit -r 1000 -n 10 forloop(x , w)"
   ]
  },
  {
   "cell_type": "code",
   "execution_count": 12,
   "metadata": {},
   "outputs": [
    {
     "name": "stdout",
     "output_type": "stream",
     "text": [
      "The slowest run took 100.69 times longer than the fastest. This could mean that an intermediate result is being cached.\n",
      "1.19 μs ± 2.45 μs per loop (mean ± std. dev. of 1000 runs, 10 loops each)\n"
     ]
    }
   ],
   "source": [
    "%timeit -r 1000 -n 10 listcompreghension(x , w)"
   ]
  },
  {
   "cell_type": "code",
   "execution_count": 13,
   "metadata": {},
   "outputs": [
    {
     "name": "stdout",
     "output_type": "stream",
     "text": [
      "The slowest run took 36.15 times longer than the fastest. This could mean that an intermediate result is being cached.\n",
      "1.01 μs ± 935 ns per loop (mean ± std. dev. of 1000 runs, 10 loops each)\n"
     ]
    }
   ],
   "source": [
    "%timeit -r 1000 -n 10 listcompreghension(x , w)"
   ]
  },
  {
   "cell_type": "code",
   "execution_count": 23,
   "metadata": {},
   "outputs": [
    {
     "name": "stdout",
     "output_type": "stream",
     "text": [
      "forloop execution time:  0.08899903297424316\n"
     ]
    },
    {
     "ename": "NameError",
     "evalue": "name 'listcomprehension' is not defined",
     "output_type": "error",
     "traceback": [
      "\u001b[1;31m---------------------------------------------------------------------------\u001b[0m",
      "\u001b[1;31mNameError\u001b[0m                                 Traceback (most recent call last)",
      "Cell \u001b[1;32mIn[23], line 10\u001b[0m\n\u001b[0;32m      8\u001b[0m \u001b[38;5;66;03m#listcomprehension time\u001b[39;00m\n\u001b[0;32m      9\u001b[0m start_time \u001b[38;5;241m=\u001b[39m time\u001b[38;5;241m.\u001b[39mtime()\n\u001b[1;32m---> 10\u001b[0m \u001b[43mlistcomprehension\u001b[49m(x,w)\n\u001b[0;32m     11\u001b[0m end_time \u001b[38;5;241m=\u001b[39m time\u001b[38;5;241m.\u001b[39mtime()\n\u001b[0;32m     12\u001b[0m \u001b[38;5;28mprint\u001b[39m(\u001b[38;5;124m\"\u001b[39m\u001b[38;5;124mlist comprehension execution time: \u001b[39m\u001b[38;5;124m\"\u001b[39m,end_time\u001b[38;5;241m-\u001b[39mstart_time)\n",
      "\u001b[1;31mNameError\u001b[0m: name 'listcomprehension' is not defined"
     ]
    }
   ],
   "source": [
    "import time\n",
    "# forloop time\n",
    "start_time = time.time()\n",
    "forloop(x,w)\n",
    "end_time = time.time()\n",
    "print(\"forloop execution time: \",end_time-start_time)\n",
    "\n",
    "#listcomprehension time\n",
    "start_time = time.time()\n",
    "listcomprehension(x,w)\n",
    "end_time = time.time()\n",
    "print(\"list comprehension execution time: \",end_time-start_time)\n",
    "\n",
    "#vectorized time\n",
    "start_time = time.time()\n",
    "vectorized(x,w)\n",
    "end_time = time.time()\n",
    "print(\"vector execution time: \",end_time-start_time)"
   ]
  },
  {
   "cell_type": "code",
   "execution_count": null,
   "metadata": {},
   "outputs": [],
   "source": []
  }
 ],
 "metadata": {
  "kernelspec": {
   "display_name": "Python 3",
   "language": "python",
   "name": "python3"
  },
  "language_info": {
   "codemirror_mode": {
    "name": "ipython",
    "version": 3
   },
   "file_extension": ".py",
   "mimetype": "text/x-python",
   "name": "python",
   "nbconvert_exporter": "python",
   "pygments_lexer": "ipython3",
   "version": "3.12.6"
  }
 },
 "nbformat": 4,
 "nbformat_minor": 2
}
